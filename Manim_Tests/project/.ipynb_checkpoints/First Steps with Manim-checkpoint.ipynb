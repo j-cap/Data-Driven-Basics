{
 "cells": [
  {
   "cell_type": "code",
   "execution_count": 1,
   "id": "3b259e1c",
   "metadata": {},
   "outputs": [
    {
     "data": {
      "text/html": [
       "<pre style=\"white-space:pre;overflow-x:auto;line-height:normal;font-family:Menlo,'DejaVu Sans Mono',consolas,'Courier New',monospace\">Manim Community <span style=\"color: #008000; text-decoration-color: #008000\">v0.10.0</span>\n",
       "\n",
       "</pre>\n"
      ],
      "text/plain": [
       "Manim Community \u001b[32mv0.\u001b[0m\u001b[32m10.0\u001b[0m\n",
       "\n"
      ]
     },
     "metadata": {},
     "output_type": "display_data"
    }
   ],
   "source": [
    "from manim import *\n",
    "\n",
    "config.media_width = \"60%\""
   ]
  },
  {
   "cell_type": "markdown",
   "id": "0c82a30a-2165-4215-a646-2f4210ec4cab",
   "metadata": {},
   "source": [
    "## Your first Scene\n",
    "\n",
    "Manim generates videos by rendering *Scenes*. These are special classes that have a `construct` method describing the animations that should be rendered. (For the sake of this tutorial it doesn't matter if you are not that familiar with Python or object-oriented programming terminology like *class* or *method* – but you should consider working through a Python tutorial if you want to keep learning Manim.)\n",
    "\n",
    "Enough of fancy words, let us look at an example. Run the cell below to render and display a video."
   ]
  },
  {
   "cell_type": "code",
   "execution_count": 7,
   "id": "df9df1b9",
   "metadata": {},
   "outputs": [
    {
     "name": "stderr",
     "output_type": "stream",
     "text": [
      "                                                                                                                                                                            \r"
     ]
    },
    {
     "data": {
      "text/html": [
       "<video src=\"media\\jupyter\\CircleToSquare@2021-09-17@16-08-33.mp4\" controls autoplay loop style=\"max-width: 60%;\"  >\n",
       "      Your browser does not support the <code>video</code> element.\n",
       "    </video>"
      ],
      "text/plain": [
       "<IPython.core.display.Video object>"
      ]
     },
     "metadata": {},
     "output_type": "display_data"
    }
   ],
   "source": [
    "%%manim -v WARNING -ql CircleToSquare\n",
    "\n",
    "class CircleToSquare(Scene):\n",
    "    def construct(self):\n",
    "        blue_circle = Circle(color=BLUE, fill_opacity=0.5)\n",
    "        green_square = Square(color=GREEN, fill_opacity=0.8)\n",
    "        red_triangle = Triangle(color=RED, fill_opacity=1)\n",
    "        self.play(DrawBorderThenFill(blue_circle))\n",
    "        self.wait()\n",
    "        \n",
    "        self.play(Transform(blue_circle, green_square))\n",
    "        self.wait()\n",
    "        \n",
    "        self.play(Transform(blue_circle, red_triangle))\n",
    "        self.wait()"
   ]
  },
  {
   "cell_type": "markdown",
   "id": "2f93bd1e-480b-459d-9472-fcbc4ee269c3",
   "metadata": {},
   "source": [
    "## Positioning Mobjects and moving them around\n",
    "\n",
    "New problem: We want to create a scene in which a circle is created while simultaneously some text is written below it. We can reuse our blue circle from above, and then add some new code:"
   ]
  },
  {
   "cell_type": "code",
   "execution_count": 11,
   "id": "68551a19-695f-49c1-a572-ccc14cc5472c",
   "metadata": {},
   "outputs": [
    {
     "name": "stderr",
     "output_type": "stream",
     "text": [
      "                                                                                                                                                                            \r"
     ]
    },
    {
     "data": {
      "text/html": [
       "<video src=\"media\\jupyter\\HelloCircle@2021-09-17@16-10-00.mp4\" controls autoplay loop style=\"max-width: 60%;\"  >\n",
       "      Your browser does not support the <code>video</code> element.\n",
       "    </video>"
      ],
      "text/plain": [
       "<IPython.core.display.Video object>"
      ]
     },
     "metadata": {},
     "output_type": "display_data"
    }
   ],
   "source": [
    "%%manim -v WARNING -qm HelloCircle\n",
    "\n",
    "class HelloCircle(Scene):\n",
    "    def construct(self):\n",
    "        #blue_circle = Circle(color=BLUE, fill_opacity=0.5)\n",
    "        circle = Circle()\n",
    "        blue_circle = circle.set_color(BLUE).set_opacity(0.5)\n",
    "        \n",
    "        label = Text(\"A wild circle appears!\")\n",
    "        label.next_to(blue_circle, DOWN, buff=0.5)\n",
    "        \n",
    "        self.play(Create(blue_circle), Write(label))\n",
    "        self.wait()"
   ]
  },
  {
   "cell_type": "markdown",
   "id": "43459613-9ace-4720-a72d-f9a4cf0904ac",
   "metadata": {},
   "source": [
    "## Animating Method calls: the `.animate` syntax\n",
    "\n",
    "In the last example we have encountered the `.next_to` method, one of many (!) methods that modify Mobjects in one way or the other. But what if we wanted to animate how a Mobject changes when one of these methods is applied, say, when we `.shift` something around, or `.rotate` a Mobject, or maybe `.scale` it? The `.animate` syntax is the answer to this question, let us look at an example."
   ]
  },
  {
   "cell_type": "code",
   "execution_count": 13,
   "id": "15ed74c8-da48-4f46-953e-648379da0a92",
   "metadata": {},
   "outputs": [
    {
     "name": "stderr",
     "output_type": "stream",
     "text": [
      "                                                                                                                                                                            \r"
     ]
    },
    {
     "data": {
      "text/html": [
       "<video src=\"media\\jupyter\\CircleAnnouncement@2021-09-17@16-11-20.mp4\" controls autoplay loop style=\"max-width: 60%;\"  >\n",
       "      Your browser does not support the <code>video</code> element.\n",
       "    </video>"
      ],
      "text/plain": [
       "<IPython.core.display.Video object>"
      ]
     },
     "metadata": {},
     "output_type": "display_data"
    }
   ],
   "source": [
    "%%manim -v WARNING -qm CircleAnnouncement\n",
    "\n",
    "class CircleAnnouncement(Scene):\n",
    "    def construct(self):\n",
    "        blue_circle = Circle(color=BLUE, fill_opacity=0.5)\n",
    "        announcement = Text(\"Let us draw a circle.\")\n",
    "        \n",
    "        self.play(Write(announcement))\n",
    "        self.wait()\n",
    "        \n",
    "        self.play(announcement.animate.next_to(blue_circle, UP, buff=0.5))\n",
    "        self.play(Create(blue_circle))"
   ]
  },
  {
   "cell_type": "code",
   "execution_count": null,
   "id": "3d5d27fd-9cdb-42bb-9695-05dcd49b5ac4",
   "metadata": {},
   "outputs": [],
   "source": []
  }
 ],
 "metadata": {
  "kernelspec": {
   "display_name": "for-manim",
   "language": "python",
   "name": "for-manim"
  },
  "language_info": {
   "codemirror_mode": {
    "name": "ipython",
    "version": 3
   },
   "file_extension": ".py",
   "mimetype": "text/x-python",
   "name": "python",
   "nbconvert_exporter": "python",
   "pygments_lexer": "ipython3",
   "version": "3.8.11"
  }
 },
 "nbformat": 4,
 "nbformat_minor": 5
}
