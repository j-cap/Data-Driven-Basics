{
 "cells": [
  {
   "cell_type": "code",
   "execution_count": 3,
   "id": "7110c849-1273-4a79-a2fe-ca2b6f6b3d93",
   "metadata": {
    "collapsed": true,
    "jupyter": {
     "outputs_hidden": true
    },
    "tags": []
   },
   "outputs": [
    {
     "name": "stdout",
     "output_type": "stream",
     "text": [
      "Collecting numpy\n",
      "  Using cached numpy-1.21.2-cp38-cp38-win_amd64.whl (14.0 MB)\n",
      "Collecting matplotlib\n",
      "  Using cached matplotlib-3.4.3-cp38-cp38-win_amd64.whl (7.1 MB)\n",
      "Collecting tensorflow\n",
      "  Downloading tensorflow-2.6.0-cp38-cp38-win_amd64.whl (423.2 MB)\n",
      "Collecting cycler>=0.10\n",
      "  Using cached cycler-0.10.0-py2.py3-none-any.whl (6.5 kB)\n",
      "Requirement already satisfied: python-dateutil>=2.7 in c:\\users\\weberj\\miniconda3\\envs\\physics-based-deep-learning\\lib\\site-packages (from matplotlib) (2.8.2)\n",
      "Collecting pillow>=6.2.0\n",
      "  Downloading Pillow-8.3.2-cp38-cp38-win_amd64.whl (3.2 MB)\n",
      "Collecting kiwisolver>=1.0.1\n",
      "  Downloading kiwisolver-1.3.2-cp38-cp38-win_amd64.whl (52 kB)\n",
      "Requirement already satisfied: pyparsing>=2.2.1 in c:\\users\\weberj\\miniconda3\\envs\\physics-based-deep-learning\\lib\\site-packages (from matplotlib) (2.4.7)\n",
      "Requirement already satisfied: six in c:\\users\\weberj\\miniconda3\\envs\\physics-based-deep-learning\\lib\\site-packages (from cycler>=0.10->matplotlib) (1.16.0)\n",
      "Requirement already satisfied: wheel~=0.35 in c:\\users\\weberj\\miniconda3\\envs\\physics-based-deep-learning\\lib\\site-packages (from tensorflow) (0.37.0)\n",
      "Collecting clang~=5.0\n",
      "  Downloading clang-5.0.tar.gz (30 kB)\n",
      "Collecting keras~=2.6\n",
      "  Downloading keras-2.6.0-py2.py3-none-any.whl (1.3 MB)\n",
      "Collecting wrapt~=1.12.1\n",
      "  Using cached wrapt-1.12.1-py3-none-any.whl\n",
      "Collecting keras-preprocessing~=1.1.2\n",
      "  Using cached Keras_Preprocessing-1.1.2-py2.py3-none-any.whl (42 kB)\n",
      "Collecting tensorflow-estimator~=2.6\n",
      "  Downloading tensorflow_estimator-2.6.0-py2.py3-none-any.whl (462 kB)\n",
      "Collecting flatbuffers~=1.12.0\n",
      "  Using cached flatbuffers-1.12-py2.py3-none-any.whl (15 kB)\n",
      "Collecting google-pasta~=0.2\n",
      "  Using cached google_pasta-0.2.0-py3-none-any.whl (57 kB)\n",
      "Collecting protobuf>=3.9.2\n",
      "  Using cached protobuf-3.17.3-cp38-cp38-win_amd64.whl (909 kB)\n",
      "Collecting opt-einsum~=3.3.0\n",
      "  Using cached opt_einsum-3.3.0-py3-none-any.whl (65 kB)\n",
      "Collecting h5py~=3.1.0\n",
      "  Using cached h5py-3.1.0-cp38-cp38-win_amd64.whl (2.7 MB)\n",
      "Collecting six\n",
      "  Using cached six-1.15.0-py2.py3-none-any.whl (10 kB)\n",
      "Collecting astunparse~=1.6.3\n",
      "  Using cached astunparse-1.6.3-py2.py3-none-any.whl (12 kB)\n",
      "Collecting tensorboard~=2.6\n",
      "  Downloading tensorboard-2.6.0-py3-none-any.whl (5.6 MB)\n",
      "Collecting grpcio<2.0,>=1.37.0\n",
      "  Downloading grpcio-1.40.0-cp38-cp38-win_amd64.whl (3.2 MB)\n",
      "Collecting absl-py~=0.10\n",
      "  Using cached absl_py-0.13.0-py3-none-any.whl (132 kB)\n",
      "Collecting numpy\n",
      "  Downloading numpy-1.19.5-cp38-cp38-win_amd64.whl (13.3 MB)\n",
      "Collecting termcolor~=1.1.0\n",
      "  Using cached termcolor-1.1.0-py3-none-any.whl\n",
      "Collecting gast==0.4.0\n",
      "  Using cached gast-0.4.0-py3-none-any.whl (9.8 kB)\n",
      "Collecting typing-extensions~=3.7.4\n",
      "  Using cached typing_extensions-3.7.4.3-py3-none-any.whl (22 kB)\n",
      "Collecting tensorboard-data-server<0.7.0,>=0.6.0\n",
      "  Using cached tensorboard_data_server-0.6.1-py3-none-any.whl (2.4 kB)\n",
      "Collecting markdown>=2.6.8\n",
      "  Using cached Markdown-3.3.4-py3-none-any.whl (97 kB)\n",
      "Requirement already satisfied: requests<3,>=2.21.0 in c:\\users\\weberj\\miniconda3\\envs\\physics-based-deep-learning\\lib\\site-packages (from tensorboard~=2.6->tensorflow) (2.26.0)\n",
      "Collecting google-auth<2,>=1.6.3\n",
      "  Downloading google_auth-1.35.0-py2.py3-none-any.whl (152 kB)\n",
      "Requirement already satisfied: setuptools>=41.0.0 in c:\\users\\weberj\\miniconda3\\envs\\physics-based-deep-learning\\lib\\site-packages (from tensorboard~=2.6->tensorflow) (52.0.0.post20210125)\n",
      "Collecting tensorboard-plugin-wit>=1.6.0\n",
      "  Using cached tensorboard_plugin_wit-1.8.0-py3-none-any.whl (781 kB)\n",
      "Collecting werkzeug>=0.11.15\n",
      "  Using cached Werkzeug-2.0.1-py3-none-any.whl (288 kB)\n",
      "Collecting google-auth-oauthlib<0.5,>=0.4.1\n",
      "  Downloading google_auth_oauthlib-0.4.6-py2.py3-none-any.whl (18 kB)\n",
      "Collecting cachetools<5.0,>=2.0.0\n",
      "  Using cached cachetools-4.2.2-py3-none-any.whl (11 kB)\n",
      "Collecting pyasn1-modules>=0.2.1\n",
      "  Using cached pyasn1_modules-0.2.8-py2.py3-none-any.whl (155 kB)\n",
      "Collecting rsa<5,>=3.1.4\n",
      "  Using cached rsa-4.7.2-py3-none-any.whl (34 kB)\n",
      "Collecting requests-oauthlib>=0.7.0\n",
      "  Using cached requests_oauthlib-1.3.0-py2.py3-none-any.whl (23 kB)\n",
      "Collecting pyasn1<0.5.0,>=0.4.6\n",
      "  Using cached pyasn1-0.4.8-py2.py3-none-any.whl (77 kB)\n",
      "Requirement already satisfied: idna<4,>=2.5 in c:\\users\\weberj\\miniconda3\\envs\\physics-based-deep-learning\\lib\\site-packages (from requests<3,>=2.21.0->tensorboard~=2.6->tensorflow) (3.2)\n",
      "Requirement already satisfied: charset-normalizer~=2.0.0 in c:\\users\\weberj\\miniconda3\\envs\\physics-based-deep-learning\\lib\\site-packages (from requests<3,>=2.21.0->tensorboard~=2.6->tensorflow) (2.0.5)\n",
      "Requirement already satisfied: urllib3<1.27,>=1.21.1 in c:\\users\\weberj\\miniconda3\\envs\\physics-based-deep-learning\\lib\\site-packages (from requests<3,>=2.21.0->tensorboard~=2.6->tensorflow) (1.26.6)\n",
      "Requirement already satisfied: certifi>=2017.4.17 in c:\\users\\weberj\\miniconda3\\envs\\physics-based-deep-learning\\lib\\site-packages (from requests<3,>=2.21.0->tensorboard~=2.6->tensorflow) (2021.5.30)\n",
      "Collecting oauthlib>=3.0.0\n",
      "  Using cached oauthlib-3.1.1-py2.py3-none-any.whl (146 kB)\n",
      "Building wheels for collected packages: clang\n",
      "  Building wheel for clang (setup.py): started\n",
      "  Building wheel for clang (setup.py): finished with status 'done'\n",
      "  Created wheel for clang: filename=clang-5.0-py3-none-any.whl size=30703 sha256=a77d9d11c5ea7db6bdfde37e3e5121b347f2b2196780120757db5083feeba667\n",
      "  Stored in directory: c:\\users\\weberj\\appdata\\local\\pip\\cache\\wheels\\f1\\60\\77\\22b9b5887bd47801796a856f47650d9789c74dc3161a26d608\n",
      "Successfully built clang\n",
      "Installing collected packages: pyasn1, six, rsa, pyasn1-modules, oauthlib, cachetools, requests-oauthlib, google-auth, werkzeug, tensorboard-plugin-wit, tensorboard-data-server, protobuf, numpy, markdown, grpcio, google-auth-oauthlib, absl-py, wrapt, typing-extensions, termcolor, tensorflow-estimator, tensorboard, pillow, opt-einsum, kiwisolver, keras-preprocessing, keras, h5py, google-pasta, gast, flatbuffers, cycler, clang, astunparse, tensorflow, matplotlib\n",
      "  Attempting uninstall: six\n",
      "    Found existing installation: six 1.16.0\n",
      "    Uninstalling six-1.16.0:\n",
      "      Successfully uninstalled six-1.16.0\n",
      "Successfully installed absl-py-0.13.0 astunparse-1.6.3 cachetools-4.2.2 clang-5.0 cycler-0.10.0 flatbuffers-1.12 gast-0.4.0 google-auth-1.35.0 google-auth-oauthlib-0.4.6 google-pasta-0.2.0 grpcio-1.40.0 h5py-3.1.0 keras-2.6.0 keras-preprocessing-1.1.2 kiwisolver-1.3.2 markdown-3.3.4 matplotlib-3.4.3 numpy-1.19.5 oauthlib-3.1.1 opt-einsum-3.3.0 pillow-8.3.2 protobuf-3.17.3 pyasn1-0.4.8 pyasn1-modules-0.2.8 requests-oauthlib-1.3.0 rsa-4.7.2 six-1.15.0 tensorboard-2.6.0 tensorboard-data-server-0.6.1 tensorboard-plugin-wit-1.8.0 tensorflow-2.6.0 tensorflow-estimator-2.6.0 termcolor-1.1.0 typing-extensions-3.7.4.3 werkzeug-2.0.1 wrapt-1.12.1\n"
     ]
    }
   ],
   "source": [
    "!pip install numpy matplotlib tensorflow"
   ]
  },
  {
   "cell_type": "markdown",
   "id": "cf1d80c5-8724-449c-b3bc-44988590110f",
   "metadata": {},
   "source": [
    "## 1.2 Finding the inverse of a parabola\n",
    "\n",
    "- Illustrates the difference between supervised and DP approaches (differential physics)\n",
    "- Given $\\mathcal P : y \\rightarrow y^2$ for $y \\in [0,1]$, find the unknown function $f$ s.t. $\\mathcal P(f(x)) = x$ for $x \\in [0,1]$ "
   ]
  },
  {
   "cell_type": "code",
   "execution_count": 5,
   "id": "be9c15da-0606-4f1b-b92b-060db2082795",
   "metadata": {},
   "outputs": [],
   "source": [
    "import numpy as np\n",
    "import tensorflow as tf\n",
    "import matplotlib.pyplot as plt"
   ]
  },
  {
   "cell_type": "markdown",
   "id": "1ece88d8-6208-47eb-807e-6888121f91c6",
   "metadata": {},
   "source": [
    "### Supervised approach"
   ]
  },
  {
   "cell_type": "code",
   "execution_count": 26,
   "id": "5a5a509e-695b-4591-855a-bc84f01a3d03",
   "metadata": {},
   "outputs": [],
   "source": [
    "# X-data\n",
    "N = 2000\n",
    "X = np.random.random(N)\n",
    "\n",
    "# Y-Data\n",
    "sign = (-np.ones((N,)))**np.random.randint(2, size=N)\n",
    "Y = np.sqrt(X) * sign"
   ]
  },
  {
   "cell_type": "code",
   "execution_count": 42,
   "id": "856e22cf-247d-4872-ba77-5e974328e43b",
   "metadata": {},
   "outputs": [],
   "source": [
    "# Neural network\n",
    "act = tf.keras.layers.ReLU()\n",
    "nn_sv = tf.keras.models.Sequential([\n",
    "    tf.keras.layers.Dense(10, activation=act),\n",
    "    tf.keras.layers.Dense(10, activation=act),\n",
    "    tf.keras.layers.Dense(1, activation='linear')\n",
    "])"
   ]
  },
  {
   "cell_type": "code",
   "execution_count": 45,
   "id": "1a1498e6-7687-4071-baa2-34978f6422a3",
   "metadata": {},
   "outputs": [],
   "source": [
    "# Loss function\n",
    "loss_sv = tf.keras.losses.MeanSquaredError()\n",
    "optimizer_sv = tf.keras.optimizers.Adam(lr=0.01)\n",
    "nn_sv.compile(optimizer=optimizer_sv, loss=loss_sv)"
   ]
  },
  {
   "cell_type": "code",
   "execution_count": 46,
   "id": "27c70047-bdfd-4ca1-a6cb-f52f8982727b",
   "metadata": {},
   "outputs": [
    {
     "name": "stdout",
     "output_type": "stream",
     "text": [
      "Epoch 1/20\n",
      "40/40 [==============================] - 0s 1ms/step - loss: 0.5062\n",
      "Epoch 2/20\n",
      "40/40 [==============================] - 0s 2ms/step - loss: 0.5053\n",
      "Epoch 3/20\n",
      "40/40 [==============================] - 0s 2ms/step - loss: 0.5057\n",
      "Epoch 4/20\n",
      "40/40 [==============================] - 0s 2ms/step - loss: 0.5050\n",
      "Epoch 5/20\n",
      "40/40 [==============================] - 0s 2ms/step - loss: 0.5050\n",
      "Epoch 6/20\n",
      "40/40 [==============================] - 0s 2ms/step - loss: 0.5054\n",
      "Epoch 7/20\n",
      "40/40 [==============================] - 0s 1ms/step - loss: 0.5050\n",
      "Epoch 8/20\n",
      "40/40 [==============================] - 0s 2ms/step - loss: 0.5054\n",
      "Epoch 9/20\n",
      "40/40 [==============================] - 0s 2ms/step - loss: 0.5061\n",
      "Epoch 10/20\n",
      "40/40 [==============================] - 0s 1ms/step - loss: 0.5058\n",
      "Epoch 11/20\n",
      "40/40 [==============================] - 0s 2ms/step - loss: 0.5041\n",
      "Epoch 12/20\n",
      "40/40 [==============================] - 0s 1ms/step - loss: 0.5051\n",
      "Epoch 13/20\n",
      "40/40 [==============================] - 0s 2ms/step - loss: 0.5041\n",
      "Epoch 14/20\n",
      "40/40 [==============================] - 0s 2ms/step - loss: 0.5053\n",
      "Epoch 15/20\n",
      "40/40 [==============================] - 0s 2ms/step - loss: 0.5061\n",
      "Epoch 16/20\n",
      "40/40 [==============================] - 0s 2ms/step - loss: 0.5042\n",
      "Epoch 17/20\n",
      "40/40 [==============================] - 0s 2ms/step - loss: 0.5046\n",
      "Epoch 18/20\n",
      "40/40 [==============================] - 0s 2ms/step - loss: 0.5045\n",
      "Epoch 19/20\n",
      "40/40 [==============================] - 0s 2ms/step - loss: 0.5039\n",
      "Epoch 20/20\n",
      "40/40 [==============================] - 0s 1ms/step - loss: 0.5048\n"
     ]
    }
   ],
   "source": [
    "# Training\n",
    "results_sv = nn_sv.fit(X, Y, epochs=20, batch_size=50, verbose=1)"
   ]
  },
  {
   "cell_type": "code",
   "execution_count": 47,
   "id": "d5db26ff-8375-48d1-9094-390bc01f9d6f",
   "metadata": {},
   "outputs": [
    {
     "data": {
      "image/png": "[encoded data removed]",
      "text/plain": [
       "<Figure size 432x288 with 1 Axes>"
      ]
     },
     "metadata": {
      "needs_background": "light"
     },
     "output_type": "display_data"
    },
    {
     "name": "stdout",
     "output_type": "stream",
     "text": [
      "This is obviously wrong!\n"
     ]
    }
   ],
   "source": [
    "# Results\n",
    "plt.plot(X, Y, '.', label='Data Points', color='lightgray')\n",
    "plt.plot(X, nn_sv.predict(X), '.', label='Supervised', color='red')\n",
    "plt.xlabel('x')\n",
    "plt.ylabel('y')\n",
    "plt.title('Standard approach')\n",
    "plt.legend()\n",
    "plt.show()\n",
    "print(\"This is obviously wrong!\")"
   ]
  },
  {
   "cell_type": "markdown",
   "id": "ca998752-56a0-4e3c-a9e4-4306b7043c72",
   "metadata": {},
   "source": [
    "## 1.3 A differential physics approach"
   ]
  },
  {
   "cell_type": "code",
   "execution_count": 22,
   "id": "e87a62e4-81f4-4ef3-947f-54bf67b5ff4e",
   "metadata": {},
   "outputs": [],
   "source": [
    "# X-Data\n",
    "# X = X, we can directly re-use the X from above, nothing has changed\n",
    "# Y is evaluated on the fly \n",
    "\n",
    "# Model\n",
    "nn_dp = tf.keras.models.Sequential([\n",
    "    tf.keras.layers.Dense(10, activation=act),\n",
    "    tf.keras.layers.Dense(10, activation=act),\n",
    "    tf.keras.layers.Dense(1, activation='linear')\n",
    "])"
   ]
  },
  {
   "cell_type": "code",
   "execution_count": 23,
   "id": "46044a90-d4ef-43e7-96c5-ec7d57ee4c23",
   "metadata": {},
   "outputs": [
    {
     "name": "stderr",
     "output_type": "stream",
     "text": [
      "C:\\Users\\WeberJ\\Miniconda3\\envs\\physics-based-deep-learning\\lib\\site-packages\\keras\\optimizer_v2\\optimizer_v2.py:355: UserWarning: The `lr` argument is deprecated, use `learning_rate` instead.\n",
      "  warnings.warn(\n"
     ]
    }
   ],
   "source": [
    "# Loss\n",
    "mse = tf.keras.losses.MeanSquaredError()\n",
    "def loss_dp(y_true, y_pred):\n",
    "    return mse(y_true, y_pred**2)\n",
    "\n",
    "optimizer_dp = tf.keras.optimizers.Adam(lr=0.001)\n",
    "nn_dp.compile(optimizer=optimizer_dp, loss=loss_dp)"
   ]
  },
  {
   "cell_type": "code",
   "execution_count": 24,
   "id": "dc60529f-a284-42ed-895f-f70d58c9a730",
   "metadata": {},
   "outputs": [
    {
     "name": "stdout",
     "output_type": "stream",
     "text": [
      "Epoch 1/5\n",
      "40/40 [==============================] - 1s 2ms/step - loss: 0.2563\n",
      "Epoch 2/5\n",
      "40/40 [==============================] - 0s 2ms/step - loss: 0.0533\n",
      "Epoch 3/5\n",
      "40/40 [==============================] - 0s 2ms/step - loss: 0.0019\n",
      "Epoch 4/5\n",
      "40/40 [==============================] - 0s 2ms/step - loss: 0.0013\n",
      "Epoch 5/5\n",
      "40/40 [==============================] - 0s 2ms/step - loss: 0.0011\n"
     ]
    }
   ],
   "source": [
    "# Training\n",
    "results_dp = nn_dp.fit(X, X, epochs=5, batch_size=5, verbose=1)"
   ]
  },
  {
   "cell_type": "code",
   "execution_count": 25,
   "id": "ad24fb4f-a310-4662-bff1-04d62a6d39fc",
   "metadata": {},
   "outputs": [
    {
     "data": {
      "image/png": "[encoded data removed]",
      "text/plain": [
       "<Figure size 432x288 with 1 Axes>"
      ]
     },
     "metadata": {
      "needs_background": "light"
     },
     "output_type": "display_data"
    },
    {
     "name": "stdout",
     "output_type": "stream",
     "text": [
      "This is obviously wrong!\n"
     ]
    }
   ],
   "source": [
    "# Results\n",
    "plt.plot(X, Y, '.', label='Data Points', color='lightgray')\n",
    "plt.plot(X, nn_dp.predict(X), '.', label='Diff. Phys.', color='red')\n",
    "plt.xlabel('x')\n",
    "plt.ylabel('y')\n",
    "plt.title('Differential physics approach')\n",
    "plt.legend()\n",
    "plt.show()\n",
    "print(\"This is obviously wrong!\")"
   ]
  },
  {
   "cell_type": "markdown",
   "id": "89ebcfd7-8623-4571-a56e-1a493519de9c",
   "metadata": {},
   "source": [
    "## Try 2-D Example\n",
    "\n",
    "- Given $\\mathcal P : (y_1, y_2) \\rightarrow y_1^2 + y_2^2$ find an inverse function $f$ such that $\\mathcal P(f(x)) = x$ for $x \\in [0,1]$"
   ]
  },
  {
   "cell_type": "code",
   "execution_count": 50,
   "id": "4e6bb681-74b5-4185-9cb3-ac98ad07be4d",
   "metadata": {},
   "outputs": [],
   "source": [
    "# X-data\n",
    "N = 2000\n",
    "X = np.random.random((N, 2))\n",
    "\n",
    "# Y-Data\n",
    "sign = (-np.ones((N,)))**np.random.randint(2, size=N)\n",
    "Y = np.sum(np.sqrt(X)) * sign"
   ]
  },
  {
   "cell_type": "code",
   "execution_count": null,
   "id": "e933851c-dfd9-422b-a94f-e06e24a3bb3e",
   "metadata": {},
   "outputs": [],
   "source": [
    "# Model\n",
    "nn_dp_2d = tf.keras.models.Sequential([\n",
    "    tf.keras.layers.Dense(10, activation=act),\n",
    "    tf.keras.layers.Dense(10, activation=act),\n",
    "    tf.keras.layers.Dense(1, activation='linear')\n",
    "])"
   ]
  },
  {
   "cell_type": "code",
   "execution_count": null,
   "id": "5267c19c-ceef-4580-a51b-835a15e15baf",
   "metadata": {},
   "outputs": [],
   "source": [
    "# Loss\n",
    "mse = tf.keras.losses.MeanSquaredError()\n",
    "def loss_dp(y_true, y_pred):\n",
    "    return mse(y_true, np.sum(y_pred**2))\n",
    "\n",
    "optimizer_dp = tf.keras.optimizers.Adam(lr=0.001)\n",
    "nn_dp.compile(optimizer=optimizer_dp, loss=loss_dp)"
   ]
  },
  {
   "cell_type": "code",
   "execution_count": null,
   "id": "16d4781d-5248-4ad5-b6a8-d92aae870c73",
   "metadata": {},
   "outputs": [],
   "source": [
    "# Training\n",
    "results_dp = nn_dp.fit(X, X, epochs=5, batch_size=5, verbose=1)"
   ]
  },
  {
   "cell_type": "code",
   "execution_count": null,
   "id": "da2fa2fc-9a61-4cbd-9ae7-700192a8ad96",
   "metadata": {},
   "outputs": [],
   "source": [
    "# Results\n",
    "plt.plot(X, Y, '.', label='Data Points', color='lightgray')\n",
    "plt.plot(X, nn_dp.predict(X), '.', label='Diff. Phys.', color='red')\n",
    "plt.xlabel('x')\n",
    "plt.ylabel('y')\n",
    "plt.title('Differential physics approach')\n",
    "plt.legend()\n",
    "plt.show()\n",
    "print(\"This is obviously wrong!\")"
   ]
  },
  {
   "cell_type": "code",
   "execution_count": null,
   "id": "1faf9ad2-db7c-4e97-8161-96adfce63107",
   "metadata": {},
   "outputs": [],
   "source": []
  },
  {
   "cell_type": "code",
   "execution_count": null,
   "id": "c98364e7-6d6f-4636-9f7b-f21e40a5b7ee",
   "metadata": {},
   "outputs": [],
   "source": []
  },
  {
   "cell_type": "code",
   "execution_count": null,
   "id": "fc006e75-bdcc-4896-b776-520fa54c2dab",
   "metadata": {},
   "outputs": [],
   "source": []
  },
  {
   "cell_type": "code",
   "execution_count": null,
   "id": "d6a3868e-8a74-4ec1-a0fc-55b6bce6244f",
   "metadata": {},
   "outputs": [],
   "source": []
  }
 ],
 "metadata": {
  "kernelspec": {
   "display_name": "pbdl",
   "language": "python",
   "name": "pbdl"
  },
  "language_info": {
   "codemirror_mode": {
    "name": "ipython",
    "version": 3
   },
   "file_extension": ".py",
   "mimetype": "text/x-python",
   "name": "python",
   "nbconvert_exporter": "python",
   "pygments_lexer": "ipython3",
   "version": "3.8.11"
  }
 },
 "nbformat": 4,
 "nbformat_minor": 5
}
