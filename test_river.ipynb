{
 "cells": [
  {
   "cell_type": "markdown",
   "id": "dominican-belgium",
   "metadata": {},
   "source": [
    "### Testing the package River "
   ]
  },
  {
   "cell_type": "code",
   "execution_count": 7,
   "id": "younger-requirement",
   "metadata": {},
   "outputs": [],
   "source": [
    "import river\n",
    "import numpy as np\n",
    "import matplotlib.pyplot as plt\n",
    "import pandas as pd\n"
   ]
  },
  {
   "cell_type": "markdown",
   "id": "defined-directive",
   "metadata": {},
   "source": [
    "### Create some data"
   ]
  },
  {
   "cell_type": "code",
   "execution_count": 8,
   "id": "express-publicity",
   "metadata": {},
   "outputs": [],
   "source": [
    "def test_func(x, a, b):\n",
    "    return a*np.sin(np.pi*x) + b*2*x + np.random.normal(scale=0.02, size=x.size)"
   ]
  },
  {
   "cell_type": "code",
   "execution_count": 195,
   "id": "ranging-gentleman",
   "metadata": {},
   "outputs": [
    {
     "data": {
      "image/png": "[encoded data removed]",
      "text/plain": [
       "<Figure size 432x288 with 1 Axes>"
      ]
     },
     "metadata": {
      "needs_background": "light"
     },
     "output_type": "display_data"
    }
   ],
   "source": [
    "a = np.arange(0,0.5,0.05,)\n",
    "fig = plt.figure()\n",
    "X = np.array([])\n",
    "Y = np.array([])\n",
    "for i in a:\n",
    "    x = np.random.uniform(size=500)\n",
    "    y = test_func(x, i, 1-i)\n",
    "    plt.scatter(x,y)\n",
    "    X = np.append(X, x)\n",
    "    Y = np.append(Y, y)\n",
    "\n",
    "np.savetxt(\"Work-Related/stream_data.csv\", np.c_[X, Y], delimiter=\",\", header=\"x,y\", comments=\"\")"
   ]
  },
  {
   "cell_type": "code",
   "execution_count": 196,
   "id": "ranging-campaign",
   "metadata": {},
   "outputs": [
    {
     "data": {
      "text/html": [
       "<div>\n",
       "<style scoped>\n",
       "    .dataframe tbody tr th:only-of-type {\n",
       "        vertical-align: middle;\n",
       "    }\n",
       "\n",
       "    .dataframe tbody tr th {\n",
       "        vertical-align: top;\n",
       "    }\n",
       "\n",
       "    .dataframe thead th {\n",
       "        text-align: right;\n",
       "    }\n",
       "</style>\n",
       "<table border=\"1\" class=\"dataframe\">\n",
       "  <thead>\n",
       "    <tr style=\"text-align: right;\">\n",
       "      <th></th>\n",
       "      <th>x</th>\n",
       "      <th>y</th>\n",
       "    </tr>\n",
       "  </thead>\n",
       "  <tbody>\n",
       "    <tr>\n",
       "      <th>0</th>\n",
       "      <td>0.407330</td>\n",
       "      <td>0.821488</td>\n",
       "    </tr>\n",
       "    <tr>\n",
       "      <th>1</th>\n",
       "      <td>0.780647</td>\n",
       "      <td>1.547576</td>\n",
       "    </tr>\n",
       "    <tr>\n",
       "      <th>2</th>\n",
       "      <td>0.431872</td>\n",
       "      <td>0.856447</td>\n",
       "    </tr>\n",
       "    <tr>\n",
       "      <th>3</th>\n",
       "      <td>0.583599</td>\n",
       "      <td>1.173854</td>\n",
       "    </tr>\n",
       "    <tr>\n",
       "      <th>4</th>\n",
       "      <td>0.990976</td>\n",
       "      <td>1.975307</td>\n",
       "    </tr>\n",
       "  </tbody>\n",
       "</table>\n",
       "</div>"
      ],
      "text/plain": [
       "          x         y\n",
       "0  0.407330  0.821488\n",
       "1  0.780647  1.547576\n",
       "2  0.431872  0.856447\n",
       "3  0.583599  1.173854\n",
       "4  0.990976  1.975307"
      ]
     },
     "execution_count": 196,
     "metadata": {},
     "output_type": "execute_result"
    }
   ],
   "source": [
    "df = pd.read_csv(\"Work-Related/stream_data.csv\")\n",
    "df.head()"
   ]
  },
  {
   "cell_type": "markdown",
   "id": "accompanied-piece",
   "metadata": {},
   "source": [
    "---\n",
    "### Test River"
   ]
  },
  {
   "cell_type": "code",
   "execution_count": 197,
   "id": "handled-morgan",
   "metadata": {},
   "outputs": [],
   "source": [
    "from river import compose\n",
    "from river import linear_model\n",
    "from river import preprocessing\n",
    "from river import stream\n",
    "from river import metrics\n",
    "from river import evaluate\n",
    "from river import tree\n",
    "from river import neighbors\n",
    "from river import ensemble"
   ]
  },
  {
   "cell_type": "code",
   "execution_count": 210,
   "id": "marine-guard",
   "metadata": {},
   "outputs": [],
   "source": [
    "model = compose.Pipeline(\n",
    "    preprocessing.StandardScaler(),\n",
    "    #linear_model.LinearRegression(l2=1e-4,)\n",
    "    #linear_model.PARegressor()\n",
    "    #tree.HoeffdingTreeRegressor(grace_period=100, max_depth=15)\n",
    "    #neighbors.KNNRegressor(window_size=200, n_neighbors=5)\n",
    "    ensemble.BaggingRegressor(tree.HoeffdingAdaptiveTreeRegressor())\n",
    ")\n",
    "metric = metrics.RMSE()"
   ]
  },
  {
   "cell_type": "code",
   "execution_count": 211,
   "id": "opposite-butterfly",
   "metadata": {},
   "outputs": [],
   "source": [
    "X_y = stream.iter_csv(\"Work-Related/stream_data.csv\", \n",
    "                     converters={\"x\": float, \"y\": float}, target=\"y\")"
   ]
  },
  {
   "cell_type": "code",
   "execution_count": 212,
   "id": "proof-counter",
   "metadata": {},
   "outputs": [
    {
     "name": "stdout",
     "output_type": "stream",
     "text": [
      "[100] RMSE: 0.545497\n",
      "[200] RMSE: 0.387434\n",
      "[300] RMSE: 0.316923\n",
      "[400] RMSE: 0.274833\n",
      "[500] RMSE: 0.246027\n",
      "[600] RMSE: 0.225739\n",
      "[700] RMSE: 0.215434\n",
      "[800] RMSE: 0.20368\n",
      "[900] RMSE: 0.192159\n",
      "[1,000] RMSE: 0.182482\n",
      "[1,100] RMSE: 0.174693\n",
      "[1,200] RMSE: 0.167538\n",
      "[1,300] RMSE: 0.161064\n",
      "[1,400] RMSE: 0.155312\n",
      "[1,500] RMSE: 0.150146\n",
      "[1,600] RMSE: 0.145582\n",
      "[1,700] RMSE: 0.14134\n",
      "[1,800] RMSE: 0.137434\n",
      "[1,900] RMSE: 0.133847\n",
      "[2,000] RMSE: 0.130537\n",
      "[2,100] RMSE: 0.127593\n",
      "[2,200] RMSE: 0.124786\n",
      "[2,300] RMSE: 0.122169\n",
      "[2,400] RMSE: 0.11967\n",
      "[2,500] RMSE: 0.117339\n",
      "[2,600] RMSE: 0.115321\n",
      "[2,700] RMSE: 0.113271\n",
      "[2,800] RMSE: 0.111324\n",
      "[2,900] RMSE: 0.109492\n",
      "[3,000] RMSE: 0.107802\n",
      "[3,100] RMSE: 0.106518\n",
      "[3,200] RMSE: 0.105191\n",
      "[3,300] RMSE: 0.10378\n",
      "[3,400] RMSE: 0.102456\n",
      "[3,500] RMSE: 0.101126\n",
      "[3,600] RMSE: 0.100002\n",
      "[3,700] RMSE: 0.098837\n",
      "[3,800] RMSE: 0.097608\n",
      "[3,900] RMSE: 0.09645\n",
      "[4,000] RMSE: 0.095304\n",
      "[4,100] RMSE: 0.094325\n",
      "[4,200] RMSE: 0.093327\n",
      "[4,300] RMSE: 0.09233\n",
      "[4,400] RMSE: 0.091413\n",
      "[4,500] RMSE: 0.090564\n",
      "[4,600] RMSE: 0.089965\n",
      "[4,700] RMSE: 0.089362\n",
      "[4,800] RMSE: 0.08865\n",
      "[4,900] RMSE: 0.087844\n",
      "[5,000] RMSE: 0.087043\n"
     ]
    },
    {
     "data": {
      "text/plain": [
       "RMSE: 0.087043"
      ]
     },
     "execution_count": 212,
     "metadata": {},
     "output_type": "execute_result"
    }
   ],
   "source": [
    "evaluate.progressive_val_score(X_y, model, metric, print_every=100)"
   ]
  },
  {
   "cell_type": "code",
   "execution_count": 213,
   "id": "varying-damage",
   "metadata": {},
   "outputs": [],
   "source": [
    "x_plot = np.linspace(0,1,100)\n",
    "y_plot_true = test_func(x_plot, 0.5, 0.5)"
   ]
  },
  {
   "cell_type": "code",
   "execution_count": 214,
   "id": "rotary-blood",
   "metadata": {},
   "outputs": [],
   "source": [
    "y_plot = []\n",
    "for xp in x_plot:\n",
    "    y_plot.append(model.predict_one(x={\"x\":xp}))"
   ]
  },
  {
   "cell_type": "code",
   "execution_count": 215,
   "id": "exposed-regard",
   "metadata": {},
   "outputs": [
    {
     "data": {
      "text/plain": [
       "<matplotlib.legend.Legend at 0x214c2c9deb0>"
      ]
     },
     "execution_count": 215,
     "metadata": {},
     "output_type": "execute_result"
    },
    {
     "data": {
      "image/png": "[encoded data removed]",
      "text/plain": [
       "<Figure size 432x288 with 1 Axes>"
      ]
     },
     "metadata": {
      "needs_background": "light"
     },
     "output_type": "display_data"
    }
   ],
   "source": [
    "df = pd.read_csv(\"Work-Related/stream_data.csv\")\n",
    "fig = plt.figure()\n",
    "plt.scatter(x_plot, y_plot_true, label=\"True\")\n",
    "plt.scatter(x_plot, y_plot, label=\"Prediction\")\n",
    "#plt.scatter(df[\"x\"], df[\"y\"])\n",
    "plt.legend()"
   ]
  }
 ],
 "metadata": {
  "kernelspec": {
   "display_name": "DDM",
   "language": "python",
   "name": "ddm"
  },
  "language_info": {
   "codemirror_mode": {
    "name": "ipython",
    "version": 3
   },
   "file_extension": ".py",
   "mimetype": "text/x-python",
   "name": "python",
   "nbconvert_exporter": "python",
   "pygments_lexer": "ipython3",
   "version": "3.8.8"
  }
 },
 "nbformat": 4,
 "nbformat_minor": 5
}
