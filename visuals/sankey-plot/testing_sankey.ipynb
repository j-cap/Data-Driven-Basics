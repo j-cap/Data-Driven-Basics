{
 "cells": [
  {
   "cell_type": "markdown",
   "id": "greenhouse-condition",
   "metadata": {},
   "source": [
    "## Source is plotly"
   ]
  },
  {
   "cell_type": "code",
   "execution_count": 1,
   "id": "related-roads",
   "metadata": {},
   "outputs": [],
   "source": [
    "import plotly.graph_objects as go\n",
    "import urllib, json\n",
    "\n",
    "url = 'https://raw.githubusercontent.com/plotly/plotly.js/master/test/image/mocks/sankey_energy.json'\n",
    "response = urllib.request.urlopen(url)\n",
    "data = json.loads(response.read())"
   ]
  },
  {
   "cell_type": "code",
   "execution_count": 2,
   "id": "private-render",
   "metadata": {},
   "outputs": [],
   "source": [
    "import pprint"
   ]
  },
  {
   "cell_type": "code",
   "execution_count": 3,
   "id": "material-mustang",
   "metadata": {},
   "outputs": [],
   "source": [
    "# override gray link colors with 'source' colors\n",
    "opacity = 0.4\n",
    "# change 'magenta' to its 'rgba' value to add opacity\n",
    "data['data'][0]['node']['color'] = ['rgba(255,0,255, 0.8)' if color == \"magenta\" else color for color in data['data'][0]['node']['color']]\n",
    "data['data'][0]['link']['color'] = [data['data'][0]['node']['color'][src].replace(\"0.8\", str(opacity)) for src in data['data'][0]['link']['source']]"
   ]
  },
  {
   "cell_type": "code",
   "execution_count": 9,
   "id": "0a9985da-e30e-48f9-b2b3-40db38c1e47a",
   "metadata": {},
   "outputs": [
    {
     "data": {
      "text/plain": [
       "{'data': [{'type': 'sankey',\n",
       "   'domain': {'x': [0, 1], 'y': [0, 1]},\n",
       "   'orientation': 'h',\n",
       "   'valueformat': '.0f',\n",
       "   'valuesuffix': 'TWh',\n",
       "   'node': {'pad': 15,\n",
       "    'thickness': 15,\n",
       "    'line': {'color': 'black', 'width': 0.5},\n",
       "    'label': [\"Agricultural 'waste'\",\n",
       "     'Bio-conversion',\n",
       "     'Liquid',\n",
       "     'Losses',\n",
       "     'Solid',\n",
       "     'Gas',\n",
       "     'Biofuel imports',\n",
       "     'Biomass imports',\n",
       "     'Coal imports',\n",
       "     'Coal',\n",
       "     'Coal reserves',\n",
       "     'District heating',\n",
       "     'Industry',\n",
       "     'Heating and cooling - commercial',\n",
       "     'Heating and cooling - homes',\n",
       "     'Electricity grid',\n",
       "     'Over generation / exports',\n",
       "     'H2 conversion',\n",
       "     'Road transport',\n",
       "     'Agriculture',\n",
       "     'Rail transport',\n",
       "     'Lighting & appliances - commercial',\n",
       "     'Lighting & appliances - homes',\n",
       "     'Gas imports',\n",
       "     'Ngas',\n",
       "     'Gas reserves',\n",
       "     'Thermal generation',\n",
       "     'Geothermal',\n",
       "     'H2',\n",
       "     'Hydro',\n",
       "     'International shipping',\n",
       "     'Domestic aviation',\n",
       "     'International aviation',\n",
       "     'National navigation',\n",
       "     'Marine algae',\n",
       "     'Nuclear',\n",
       "     'Oil imports',\n",
       "     'Oil',\n",
       "     'Oil reserves',\n",
       "     'Other waste',\n",
       "     'Pumped heat',\n",
       "     'Solar PV',\n",
       "     'Solar Thermal',\n",
       "     'Solar',\n",
       "     'Tidal',\n",
       "     'UK land based bioenergy',\n",
       "     'Wave',\n",
       "     'Wind'],\n",
       "    'color': ['rgba(31, 119, 180, 0.8)',\n",
       "     'rgba(255, 127, 14, 0.8)',\n",
       "     'rgba(44, 160, 44, 0.8)',\n",
       "     'rgba(214, 39, 40, 0.8)',\n",
       "     'rgba(148, 103, 189, 0.8)',\n",
       "     'rgba(140, 86, 75, 0.8)',\n",
       "     'rgba(227, 119, 194, 0.8)',\n",
       "     'rgba(127, 127, 127, 0.8)',\n",
       "     'rgba(188, 189, 34, 0.8)',\n",
       "     'rgba(23, 190, 207, 0.8)',\n",
       "     'rgba(31, 119, 180, 0.8)',\n",
       "     'rgba(255, 127, 14, 0.8)',\n",
       "     'rgba(44, 160, 44, 0.8)',\n",
       "     'rgba(214, 39, 40, 0.8)',\n",
       "     'rgba(148, 103, 189, 0.8)',\n",
       "     'rgba(140, 86, 75, 0.8)',\n",
       "     'rgba(227, 119, 194, 0.8)',\n",
       "     'rgba(127, 127, 127, 0.8)',\n",
       "     'rgba(188, 189, 34, 0.8)',\n",
       "     'rgba(23, 190, 207, 0.8)',\n",
       "     'rgba(31, 119, 180, 0.8)',\n",
       "     'rgba(255, 127, 14, 0.8)',\n",
       "     'rgba(44, 160, 44, 0.8)',\n",
       "     'rgba(214, 39, 40, 0.8)',\n",
       "     'rgba(148, 103, 189, 0.8)',\n",
       "     'rgba(140, 86, 75, 0.8)',\n",
       "     'rgba(227, 119, 194, 0.8)',\n",
       "     'rgba(127, 127, 127, 0.8)',\n",
       "     'rgba(188, 189, 34, 0.8)',\n",
       "     'rgba(23, 190, 207, 0.8)',\n",
       "     'rgba(31, 119, 180, 0.8)',\n",
       "     'rgba(255, 127, 14, 0.8)',\n",
       "     'rgba(44, 160, 44, 0.8)',\n",
       "     'rgba(214, 39, 40, 0.8)',\n",
       "     'rgba(148, 103, 189, 0.8)',\n",
       "     'rgba(255,0,255, 0.8)',\n",
       "     'rgba(227, 119, 194, 0.8)',\n",
       "     'rgba(127, 127, 127, 0.8)',\n",
       "     'rgba(188, 189, 34, 0.8)',\n",
       "     'rgba(23, 190, 207, 0.8)',\n",
       "     'rgba(31, 119, 180, 0.8)',\n",
       "     'rgba(255, 127, 14, 0.8)',\n",
       "     'rgba(44, 160, 44, 0.8)',\n",
       "     'rgba(214, 39, 40, 0.8)',\n",
       "     'rgba(148, 103, 189, 0.8)',\n",
       "     'rgba(140, 86, 75, 0.8)',\n",
       "     'rgba(227, 119, 194, 0.8)',\n",
       "     'rgba(127, 127, 127, 0.8)']},\n",
       "   'link': {'source': [0,\n",
       "     1,\n",
       "     1,\n",
       "     1,\n",
       "     1,\n",
       "     6,\n",
       "     7,\n",
       "     8,\n",
       "     10,\n",
       "     9,\n",
       "     11,\n",
       "     11,\n",
       "     11,\n",
       "     15,\n",
       "     15,\n",
       "     15,\n",
       "     15,\n",
       "     15,\n",
       "     15,\n",
       "     15,\n",
       "     15,\n",
       "     15,\n",
       "     15,\n",
       "     15,\n",
       "     23,\n",
       "     25,\n",
       "     5,\n",
       "     5,\n",
       "     5,\n",
       "     5,\n",
       "     5,\n",
       "     27,\n",
       "     17,\n",
       "     17,\n",
       "     28,\n",
       "     29,\n",
       "     2,\n",
       "     2,\n",
       "     2,\n",
       "     2,\n",
       "     2,\n",
       "     2,\n",
       "     2,\n",
       "     2,\n",
       "     34,\n",
       "     24,\n",
       "     35,\n",
       "     35,\n",
       "     36,\n",
       "     38,\n",
       "     37,\n",
       "     39,\n",
       "     39,\n",
       "     40,\n",
       "     40,\n",
       "     41,\n",
       "     42,\n",
       "     43,\n",
       "     43,\n",
       "     4,\n",
       "     4,\n",
       "     4,\n",
       "     26,\n",
       "     26,\n",
       "     26,\n",
       "     44,\n",
       "     45,\n",
       "     46,\n",
       "     47,\n",
       "     35,\n",
       "     35],\n",
       "    'target': [1,\n",
       "     2,\n",
       "     3,\n",
       "     4,\n",
       "     5,\n",
       "     2,\n",
       "     4,\n",
       "     9,\n",
       "     9,\n",
       "     4,\n",
       "     12,\n",
       "     13,\n",
       "     14,\n",
       "     16,\n",
       "     14,\n",
       "     17,\n",
       "     12,\n",
       "     18,\n",
       "     19,\n",
       "     13,\n",
       "     3,\n",
       "     20,\n",
       "     21,\n",
       "     22,\n",
       "     24,\n",
       "     24,\n",
       "     13,\n",
       "     3,\n",
       "     26,\n",
       "     19,\n",
       "     12,\n",
       "     15,\n",
       "     28,\n",
       "     3,\n",
       "     18,\n",
       "     15,\n",
       "     12,\n",
       "     30,\n",
       "     18,\n",
       "     31,\n",
       "     32,\n",
       "     19,\n",
       "     33,\n",
       "     20,\n",
       "     1,\n",
       "     5,\n",
       "     26,\n",
       "     26,\n",
       "     37,\n",
       "     37,\n",
       "     2,\n",
       "     4,\n",
       "     1,\n",
       "     14,\n",
       "     13,\n",
       "     15,\n",
       "     14,\n",
       "     42,\n",
       "     41,\n",
       "     19,\n",
       "     26,\n",
       "     12,\n",
       "     15,\n",
       "     3,\n",
       "     11,\n",
       "     15,\n",
       "     1,\n",
       "     15,\n",
       "     15,\n",
       "     26,\n",
       "     26],\n",
       "    'value': [124.729,\n",
       "     0.597,\n",
       "     26.862,\n",
       "     280.322,\n",
       "     81.144,\n",
       "     35,\n",
       "     35,\n",
       "     11.606,\n",
       "     63.965,\n",
       "     75.571,\n",
       "     10.639,\n",
       "     22.505,\n",
       "     46.184,\n",
       "     104.453,\n",
       "     113.726,\n",
       "     27.14,\n",
       "     342.165,\n",
       "     37.797,\n",
       "     4.412,\n",
       "     40.858,\n",
       "     56.691,\n",
       "     7.863,\n",
       "     90.008,\n",
       "     93.494,\n",
       "     40.719,\n",
       "     82.233,\n",
       "     0.129,\n",
       "     1.401,\n",
       "     151.891,\n",
       "     2.096,\n",
       "     48.58,\n",
       "     7.013,\n",
       "     20.897,\n",
       "     6.242,\n",
       "     20.897,\n",
       "     6.995,\n",
       "     121.066,\n",
       "     128.69,\n",
       "     135.835,\n",
       "     14.458,\n",
       "     206.267,\n",
       "     3.64,\n",
       "     33.218,\n",
       "     4.413,\n",
       "     14.375,\n",
       "     122.952,\n",
       "     500,\n",
       "     139.978,\n",
       "     504.287,\n",
       "     107.703,\n",
       "     611.99,\n",
       "     56.587,\n",
       "     77.81,\n",
       "     193.026,\n",
       "     70.672,\n",
       "     59.901,\n",
       "     19.263,\n",
       "     19.263,\n",
       "     59.901,\n",
       "     0.882,\n",
       "     400.12,\n",
       "     46.477,\n",
       "     525.531,\n",
       "     787.129,\n",
       "     79.329,\n",
       "     9.452,\n",
       "     182.01,\n",
       "     19.013,\n",
       "     289.366,\n",
       "     100,\n",
       "     100],\n",
       "    'color': ['rgba(31, 119, 180, 0.4)',\n",
       "     'rgba(255, 127, 14, 0.4)',\n",
       "     'rgba(255, 127, 14, 0.4)',\n",
       "     'rgba(255, 127, 14, 0.4)',\n",
       "     'rgba(255, 127, 14, 0.4)',\n",
       "     'rgba(227, 119, 194, 0.4)',\n",
       "     'rgba(127, 127, 127, 0.4)',\n",
       "     'rgba(188, 189, 34, 0.4)',\n",
       "     'rgba(31, 119, 180, 0.4)',\n",
       "     'rgba(23, 190, 207, 0.4)',\n",
       "     'rgba(255, 127, 14, 0.4)',\n",
       "     'rgba(255, 127, 14, 0.4)',\n",
       "     'rgba(255, 127, 14, 0.4)',\n",
       "     'rgba(140, 86, 75, 0.4)',\n",
       "     'rgba(140, 86, 75, 0.4)',\n",
       "     'rgba(140, 86, 75, 0.4)',\n",
       "     'rgba(140, 86, 75, 0.4)',\n",
       "     'rgba(140, 86, 75, 0.4)',\n",
       "     'rgba(140, 86, 75, 0.4)',\n",
       "     'rgba(140, 86, 75, 0.4)',\n",
       "     'rgba(140, 86, 75, 0.4)',\n",
       "     'rgba(140, 86, 75, 0.4)',\n",
       "     'rgba(140, 86, 75, 0.4)',\n",
       "     'rgba(140, 86, 75, 0.4)',\n",
       "     'rgba(214, 39, 40, 0.4)',\n",
       "     'rgba(140, 86, 75, 0.4)',\n",
       "     'rgba(140, 86, 75, 0.4)',\n",
       "     'rgba(140, 86, 75, 0.4)',\n",
       "     'rgba(140, 86, 75, 0.4)',\n",
       "     'rgba(140, 86, 75, 0.4)',\n",
       "     'rgba(140, 86, 75, 0.4)',\n",
       "     'rgba(127, 127, 127, 0.4)',\n",
       "     'rgba(127, 127, 127, 0.4)',\n",
       "     'rgba(127, 127, 127, 0.4)',\n",
       "     'rgba(188, 189, 34, 0.4)',\n",
       "     'rgba(23, 190, 207, 0.4)',\n",
       "     'rgba(44, 160, 44, 0.4)',\n",
       "     'rgba(44, 160, 44, 0.4)',\n",
       "     'rgba(44, 160, 44, 0.4)',\n",
       "     'rgba(44, 160, 44, 0.4)',\n",
       "     'rgba(44, 160, 44, 0.4)',\n",
       "     'rgba(44, 160, 44, 0.4)',\n",
       "     'rgba(44, 160, 44, 0.4)',\n",
       "     'rgba(44, 160, 44, 0.4)',\n",
       "     'rgba(148, 103, 189, 0.4)',\n",
       "     'rgba(148, 103, 189, 0.4)',\n",
       "     'rgba(255,0,255, 0.4)',\n",
       "     'rgba(255,0,255, 0.4)',\n",
       "     'rgba(227, 119, 194, 0.4)',\n",
       "     'rgba(188, 189, 34, 0.4)',\n",
       "     'rgba(127, 127, 127, 0.4)',\n",
       "     'rgba(23, 190, 207, 0.4)',\n",
       "     'rgba(23, 190, 207, 0.4)',\n",
       "     'rgba(31, 119, 180, 0.4)',\n",
       "     'rgba(31, 119, 180, 0.4)',\n",
       "     'rgba(255, 127, 14, 0.4)',\n",
       "     'rgba(44, 160, 44, 0.4)',\n",
       "     'rgba(214, 39, 40, 0.4)',\n",
       "     'rgba(214, 39, 40, 0.4)',\n",
       "     'rgba(148, 103, 189, 0.4)',\n",
       "     'rgba(148, 103, 189, 0.4)',\n",
       "     'rgba(148, 103, 189, 0.4)',\n",
       "     'rgba(227, 119, 194, 0.4)',\n",
       "     'rgba(227, 119, 194, 0.4)',\n",
       "     'rgba(227, 119, 194, 0.4)',\n",
       "     'rgba(148, 103, 189, 0.4)',\n",
       "     'rgba(140, 86, 75, 0.4)',\n",
       "     'rgba(227, 119, 194, 0.4)',\n",
       "     'rgba(127, 127, 127, 0.4)',\n",
       "     'rgba(255,0,255, 0.4)',\n",
       "     'rgba(255,0,255, 0.4)'],\n",
       "    'label': ['stream 1',\n",
       "     '',\n",
       "     '',\n",
       "     '',\n",
       "     'stream 1',\n",
       "     '',\n",
       "     '',\n",
       "     '',\n",
       "     '',\n",
       "     '',\n",
       "     '',\n",
       "     '',\n",
       "     '',\n",
       "     '',\n",
       "     '',\n",
       "     '',\n",
       "     '',\n",
       "     '',\n",
       "     '',\n",
       "     '',\n",
       "     '',\n",
       "     '',\n",
       "     '',\n",
       "     '',\n",
       "     '',\n",
       "     '',\n",
       "     '',\n",
       "     '',\n",
       "     '',\n",
       "     '',\n",
       "     'stream 1',\n",
       "     '',\n",
       "     '',\n",
       "     '',\n",
       "     '',\n",
       "     '',\n",
       "     '',\n",
       "     '',\n",
       "     '',\n",
       "     '',\n",
       "     '',\n",
       "     '',\n",
       "     '',\n",
       "     '',\n",
       "     '',\n",
       "     '',\n",
       "     'Old generation plant (made-up)',\n",
       "     'New generation plant (made-up)',\n",
       "     '',\n",
       "     '',\n",
       "     '',\n",
       "     '',\n",
       "     '',\n",
       "     '',\n",
       "     '',\n",
       "     '',\n",
       "     '',\n",
       "     '',\n",
       "     '',\n",
       "     '',\n",
       "     '',\n",
       "     '',\n",
       "     '',\n",
       "     '',\n",
       "     '',\n",
       "     '',\n",
       "     '',\n",
       "     '',\n",
       "     '',\n",
       "     '',\n",
       "     '']}}],\n",
       " 'layout': {'title': {'text': \"Energy forecast for 2050, UK — Department of Energy & Climate Change<br>Imperfect copy of <a href='https://bost.ocks.org/mike/sankey/'>Mike Bostock's example</a><br>with numerous <a href='https://plotly.com/javascript/'>Plotly</a> features\"},\n",
       "  'width': 1118,\n",
       "  'height': 772,\n",
       "  'font': {'size': 10},\n",
       "  'updatemenus': [{'y': 1,\n",
       "    'buttons': [{'label': 'Light',\n",
       "      'method': 'relayout',\n",
       "      'args': ['paper_bgcolor', 'white']},\n",
       "     {'label': 'Dark',\n",
       "      'method': 'relayout',\n",
       "      'args': ['paper_bgcolor', 'black']}]},\n",
       "   {'y': 0.9,\n",
       "    'buttons': [{'label': 'Thick',\n",
       "      'method': 'restyle',\n",
       "      'args': ['node.thickness', 15]},\n",
       "     {'label': 'Thin', 'method': 'restyle', 'args': ['node.thickness', 8]}]},\n",
       "   {'y': 0.8,\n",
       "    'buttons': [{'label': 'Small gap',\n",
       "      'method': 'restyle',\n",
       "      'args': ['node.pad', 15]},\n",
       "     {'label': 'Large gap', 'method': 'restyle', 'args': ['node.pad', 20]}]},\n",
       "   {'y': 0.7,\n",
       "    'buttons': [{'label': 'Snap',\n",
       "      'method': 'restyle',\n",
       "      'args': ['arrangement', 'snap']},\n",
       "     {'label': 'Perpendicular',\n",
       "      'method': 'restyle',\n",
       "      'args': ['arrangement', 'perpendicular']},\n",
       "     {'label': 'Freeform',\n",
       "      'method': 'restyle',\n",
       "      'args': ['arrangement', 'freeform']},\n",
       "     {'label': 'Fixed',\n",
       "      'method': 'restyle',\n",
       "      'args': ['arrangement', 'fixed']}]},\n",
       "   {'y': 0.6,\n",
       "    'buttons': [{'label': 'Horizontal',\n",
       "      'method': 'restyle',\n",
       "      'args': ['orientation', 'h']},\n",
       "     {'label': 'Vertical',\n",
       "      'method': 'restyle',\n",
       "      'args': ['orientation', 'v']}]}]}}"
      ]
     },
     "execution_count": 9,
     "metadata": {},
     "output_type": "execute_result"
    }
   ],
   "source": [
    "data"
   ]
  },
  {
   "cell_type": "code",
   "execution_count": 6,
   "id": "decimal-coffee",
   "metadata": {},
   "outputs": [
    {
     "data": {
      "application/vnd.plotly.v1+json": {
       "config": {
        "plotlyServerURL": "https://plot.ly"
       },
       "data": [
        {
         "link": {
          "color": [
           "rgba(31, 119, 180, 0.4)",
           "rgba(255, 127, 14, 0.4)",
           "rgba(255, 127, 14, 0.4)",
           "rgba(255, 127, 14, 0.4)",
           "rgba(255, 127, 14, 0.4)",
           "rgba(227, 119, 194, 0.4)",
           "rgba(127, 127, 127, 0.4)",
           "rgba(188, 189, 34, 0.4)",
           "rgba(31, 119, 180, 0.4)",
           "rgba(23, 190, 207, 0.4)",
           "rgba(255, 127, 14, 0.4)",
           "rgba(255, 127, 14, 0.4)",
           "rgba(255, 127, 14, 0.4)",
           "rgba(140, 86, 75, 0.4)",
           "rgba(140, 86, 75, 0.4)",
           "rgba(140, 86, 75, 0.4)",
           "rgba(140, 86, 75, 0.4)",
           "rgba(140, 86, 75, 0.4)",
           "rgba(140, 86, 75, 0.4)",
           "rgba(140, 86, 75, 0.4)",
           "rgba(140, 86, 75, 0.4)",
           "rgba(140, 86, 75, 0.4)",
           "rgba(140, 86, 75, 0.4)",
           "rgba(140, 86, 75, 0.4)",
           "rgba(214, 39, 40, 0.4)",
           "rgba(140, 86, 75, 0.4)",
           "rgba(140, 86, 75, 0.4)",
           "rgba(140, 86, 75, 0.4)",
           "rgba(140, 86, 75, 0.4)",
           "rgba(140, 86, 75, 0.4)",
           "rgba(140, 86, 75, 0.4)",
           "rgba(127, 127, 127, 0.4)",
           "rgba(127, 127, 127, 0.4)",
           "rgba(127, 127, 127, 0.4)",
           "rgba(188, 189, 34, 0.4)",
           "rgba(23, 190, 207, 0.4)",
           "rgba(44, 160, 44, 0.4)",
           "rgba(44, 160, 44, 0.4)",
           "rgba(44, 160, 44, 0.4)",
           "rgba(44, 160, 44, 0.4)",
           "rgba(44, 160, 44, 0.4)",
           "rgba(44, 160, 44, 0.4)",
           "rgba(44, 160, 44, 0.4)",
           "rgba(44, 160, 44, 0.4)",
           "rgba(148, 103, 189, 0.4)",
           "rgba(148, 103, 189, 0.4)",
           "rgba(255,0,255, 0.4)",
           "rgba(255,0,255, 0.4)",
           "rgba(227, 119, 194, 0.4)",
           "rgba(188, 189, 34, 0.4)",
           "rgba(127, 127, 127, 0.4)",
           "rgba(23, 190, 207, 0.4)",
           "rgba(23, 190, 207, 0.4)",
           "rgba(31, 119, 180, 0.4)",
           "rgba(31, 119, 180, 0.4)",
           "rgba(255, 127, 14, 0.4)",
           "rgba(44, 160, 44, 0.4)",
           "rgba(214, 39, 40, 0.4)",
           "rgba(214, 39, 40, 0.4)",
           "rgba(148, 103, 189, 0.4)",
           "rgba(148, 103, 189, 0.4)",
           "rgba(148, 103, 189, 0.4)",
           "rgba(227, 119, 194, 0.4)",
           "rgba(227, 119, 194, 0.4)",
           "rgba(227, 119, 194, 0.4)",
           "rgba(148, 103, 189, 0.4)",
           "rgba(140, 86, 75, 0.4)",
           "rgba(227, 119, 194, 0.4)",
           "rgba(127, 127, 127, 0.4)",
           "rgba(255,0,255, 0.4)",
           "rgba(255,0,255, 0.4)"
          ],
          "label": [
           "stream 1",
           "",
           "",
           "",
           "stream 1",
           "",
           "",
           "",
           "",
           "",
           "",
           "",
           "",
           "",
           "",
           "",
           "",
           "",
           "",
           "",
           "",
           "",
           "",
           "",
           "",
           "",
           "",
           "",
           "",
           "",
           "stream 1",
           "",
           "",
           "",
           "",
           "",
           "",
           "",
           "",
           "",
           "",
           "",
           "",
           "",
           "",
           "",
           "Old generation plant (made-up)",
           "New generation plant (made-up)",
           "",
           "",
           "",
           "",
           "",
           "",
           "",
           "",
           "",
           "",
           "",
           "",
           "",
           "",
           "",
           "",
           "",
           "",
           "",
           "",
           "",
           "",
           ""
          ],
          "source": [
           0,
           1,
           1,
           1,
           1,
           6,
           7,
           8,
           10,
           9,
           11,
           11,
           11,
           15,
           15,
           15,
           15,
           15,
           15,
           15,
           15,
           15,
           15,
           15,
           23,
           25,
           5,
           5,
           5,
           5,
           5,
           27,
           17,
           17,
           28,
           29,
           2,
           2,
           2,
           2,
           2,
           2,
           2,
           2,
           34,
           24,
           35,
           35,
           36,
           38,
           37,
           39,
           39,
           40,
           40,
           41,
           42,
           43,
           43,
           4,
           4,
           4,
           26,
           26,
           26,
           44,
           45,
           46,
           47,
           35,
           35
          ],
          "target": [
           1,
           2,
           3,
           4,
           5,
           2,
           4,
           9,
           9,
           4,
           12,
           13,
           14,
           16,
           14,
           17,
           12,
           18,
           19,
           13,
           3,
           20,
           21,
           22,
           24,
           24,
           13,
           3,
           26,
           19,
           12,
           15,
           28,
           3,
           18,
           15,
           12,
           30,
           18,
           31,
           32,
           19,
           33,
           20,
           1,
           5,
           26,
           26,
           37,
           37,
           2,
           4,
           1,
           14,
           13,
           15,
           14,
           42,
           41,
           19,
           26,
           12,
           15,
           3,
           11,
           15,
           1,
           15,
           15,
           26,
           26
          ],
          "value": [
           124.729,
           0.597,
           26.862,
           280.322,
           81.144,
           35,
           35,
           11.606,
           63.965,
           75.571,
           10.639,
           22.505,
           46.184,
           104.453,
           113.726,
           27.14,
           342.165,
           37.797,
           4.412,
           40.858,
           56.691,
           7.863,
           90.008,
           93.494,
           40.719,
           82.233,
           0.129,
           1.401,
           151.891,
           2.096,
           48.58,
           7.013,
           20.897,
           6.242,
           20.897,
           6.995,
           121.066,
           128.69,
           135.835,
           14.458,
           206.267,
           3.64,
           33.218,
           4.413,
           14.375,
           122.952,
           500,
           139.978,
           504.287,
           107.703,
           611.99,
           56.587,
           77.81,
           193.026,
           70.672,
           59.901,
           19.263,
           19.263,
           59.901,
           0.882,
           400.12,
           46.477,
           525.531,
           787.129,
           79.329,
           9.452,
           182.01,
           19.013,
           289.366,
           100,
           100
          ]
         },
         "node": {
          "color": [
           "rgba(31, 119, 180, 0.8)",
           "rgba(255, 127, 14, 0.8)",
           "rgba(44, 160, 44, 0.8)",
           "rgba(214, 39, 40, 0.8)",
           "rgba(148, 103, 189, 0.8)",
           "rgba(140, 86, 75, 0.8)",
           "rgba(227, 119, 194, 0.8)",
           "rgba(127, 127, 127, 0.8)",
           "rgba(188, 189, 34, 0.8)",
           "rgba(23, 190, 207, 0.8)",
           "rgba(31, 119, 180, 0.8)",
           "rgba(255, 127, 14, 0.8)",
           "rgba(44, 160, 44, 0.8)",
           "rgba(214, 39, 40, 0.8)",
           "rgba(148, 103, 189, 0.8)",
           "rgba(140, 86, 75, 0.8)",
           "rgba(227, 119, 194, 0.8)",
           "rgba(127, 127, 127, 0.8)",
           "rgba(188, 189, 34, 0.8)",
           "rgba(23, 190, 207, 0.8)",
           "rgba(31, 119, 180, 0.8)",
           "rgba(255, 127, 14, 0.8)",
           "rgba(44, 160, 44, 0.8)",
           "rgba(214, 39, 40, 0.8)",
           "rgba(148, 103, 189, 0.8)",
           "rgba(140, 86, 75, 0.8)",
           "rgba(227, 119, 194, 0.8)",
           "rgba(127, 127, 127, 0.8)",
           "rgba(188, 189, 34, 0.8)",
           "rgba(23, 190, 207, 0.8)",
           "rgba(31, 119, 180, 0.8)",
           "rgba(255, 127, 14, 0.8)",
           "rgba(44, 160, 44, 0.8)",
           "rgba(214, 39, 40, 0.8)",
           "rgba(148, 103, 189, 0.8)",
           "rgba(255,0,255, 0.8)",
           "rgba(227, 119, 194, 0.8)",
           "rgba(127, 127, 127, 0.8)",
           "rgba(188, 189, 34, 0.8)",
           "rgba(23, 190, 207, 0.8)",
           "rgba(31, 119, 180, 0.8)",
           "rgba(255, 127, 14, 0.8)",
           "rgba(44, 160, 44, 0.8)",
           "rgba(214, 39, 40, 0.8)",
           "rgba(148, 103, 189, 0.8)",
           "rgba(140, 86, 75, 0.8)",
           "rgba(227, 119, 194, 0.8)",
           "rgba(127, 127, 127, 0.8)"
          ],
          "label": [
           "Agricultural 'waste'",
           "Bio-conversion",
           "Liquid",
           "Losses",
           "Solid",
           "Gas",
           "Biofuel imports",
           "Biomass imports",
           "Coal imports",
           "Coal",
           "Coal reserves",
           "District heating",
           "Industry",
           "Heating and cooling - commercial",
           "Heating and cooling - homes",
           "Electricity grid",
           "Over generation / exports",
           "H2 conversion",
           "Road transport",
           "Agriculture",
           "Rail transport",
           "Lighting & appliances - commercial",
           "Lighting & appliances - homes",
           "Gas imports",
           "Ngas",
           "Gas reserves",
           "Thermal generation",
           "Geothermal",
           "H2",
           "Hydro",
           "International shipping",
           "Domestic aviation",
           "International aviation",
           "National navigation",
           "Marine algae",
           "Nuclear",
           "Oil imports",
           "Oil",
           "Oil reserves",
           "Other waste",
           "Pumped heat",
           "Solar PV",
           "Solar Thermal",
           "Solar",
           "Tidal",
           "UK land based bioenergy",
           "Wave",
           "Wind"
          ],
          "line": {
           "color": "black",
           "width": 0.5
          },
          "pad": 15,
          "thickness": 15
         },
         "type": "sankey",
         "valueformat": ".0f",
         "valuesuffix": "TWh"
        }
       ],
       "layout": {
        "autosize": true,
        "font": {
         "size": 10
        },
        "template": {
         "data": {
          "bar": [
           {
            "error_x": {
             "color": "#2a3f5f"
            },
            "error_y": {
             "color": "#2a3f5f"
            },
            "marker": {
             "line": {
              "color": "#E5ECF6",
              "width": 0.5
             },
             "pattern": {
              "fillmode": "overlay",
              "size": 10,
              "solidity": 0.2
             }
            },
            "type": "bar"
           }
          ],
          "barpolar": [
           {
            "marker": {
             "line": {
              "color": "#E5ECF6",
              "width": 0.5
             },
             "pattern": {
              "fillmode": "overlay",
              "size": 10,
              "solidity": 0.2
             }
            },
            "type": "barpolar"
           }
          ],
          "carpet": [
           {
            "aaxis": {
             "endlinecolor": "#2a3f5f",
             "gridcolor": "white",
             "linecolor": "white",
             "minorgridcolor": "white",
             "startlinecolor": "#2a3f5f"
            },
            "baxis": {
             "endlinecolor": "#2a3f5f",
             "gridcolor": "white",
             "linecolor": "white",
             "minorgridcolor": "white",
             "startlinecolor": "#2a3f5f"
            },
            "type": "carpet"
           }
          ],
          "choropleth": [
           {
            "colorbar": {
             "outlinewidth": 0,
             "ticks": ""
            },
            "type": "choropleth"
           }
          ],
          "contour": [
           {
            "colorbar": {
             "outlinewidth": 0,
             "ticks": ""
            },
            "colorscale": [
             [
              0,
              "#0d0887"
             ],
             [
              0.1111111111111111,
              "#46039f"
             ],
             [
              0.2222222222222222,
              "#7201a8"
             ],
             [
              0.3333333333333333,
              "#9c179e"
             ],
             [
              0.4444444444444444,
              "#bd3786"
             ],
             [
              0.5555555555555556,
              "#d8576b"
             ],
             [
              0.6666666666666666,
              "#ed7953"
             ],
             [
              0.7777777777777778,
              "#fb9f3a"
             ],
             [
              0.8888888888888888,
              "#fdca26"
             ],
             [
              1,
              "#f0f921"
             ]
            ],
            "type": "contour"
           }
          ],
          "contourcarpet": [
           {
            "colorbar": {
             "outlinewidth": 0,
             "ticks": ""
            },
            "type": "contourcarpet"
           }
          ],
          "heatmap": [
           {
            "colorbar": {
             "outlinewidth": 0,
             "ticks": ""
            },
            "colorscale": [
             [
              0,
              "#0d0887"
             ],
             [
              0.1111111111111111,
              "#46039f"
             ],
             [
              0.2222222222222222,
              "#7201a8"
             ],
             [
              0.3333333333333333,
              "#9c179e"
             ],
             [
              0.4444444444444444,
              "#bd3786"
             ],
             [
              0.5555555555555556,
              "#d8576b"
             ],
             [
              0.6666666666666666,
              "#ed7953"
             ],
             [
              0.7777777777777778,
              "#fb9f3a"
             ],
             [
              0.8888888888888888,
              "#fdca26"
             ],
             [
              1,
              "#f0f921"
             ]
            ],
            "type": "heatmap"
           }
          ],
          "heatmapgl": [
           {
            "colorbar": {
             "outlinewidth": 0,
             "ticks": ""
            },
            "colorscale": [
             [
              0,
              "#0d0887"
             ],
             [
              0.1111111111111111,
              "#46039f"
             ],
             [
              0.2222222222222222,
              "#7201a8"
             ],
             [
              0.3333333333333333,
              "#9c179e"
             ],
             [
              0.4444444444444444,
              "#bd3786"
             ],
             [
              0.5555555555555556,
              "#d8576b"
             ],
             [
              0.6666666666666666,
              "#ed7953"
             ],
             [
              0.7777777777777778,
              "#fb9f3a"
             ],
             [
              0.8888888888888888,
              "#fdca26"
             ],
             [
              1,
              "#f0f921"
             ]
            ],
            "type": "heatmapgl"
           }
          ],
          "histogram": [
           {
            "marker": {
             "pattern": {
              "fillmode": "overlay",
              "size": 10,
              "solidity": 0.2
             }
            },
            "type": "histogram"
           }
          ],
          "histogram2d": [
           {
            "colorbar": {
             "outlinewidth": 0,
             "ticks": ""
            },
            "colorscale": [
             [
              0,
              "#0d0887"
             ],
             [
              0.1111111111111111,
              "#46039f"
             ],
             [
              0.2222222222222222,
              "#7201a8"
             ],
             [
              0.3333333333333333,
              "#9c179e"
             ],
             [
              0.4444444444444444,
              "#bd3786"
             ],
             [
              0.5555555555555556,
              "#d8576b"
             ],
             [
              0.6666666666666666,
              "#ed7953"
             ],
             [
              0.7777777777777778,
              "#fb9f3a"
             ],
             [
              0.8888888888888888,
              "#fdca26"
             ],
             [
              1,
              "#f0f921"
             ]
            ],
            "type": "histogram2d"
           }
          ],
          "histogram2dcontour": [
           {
            "colorbar": {
             "outlinewidth": 0,
             "ticks": ""
            },
            "colorscale": [
             [
              0,
              "#0d0887"
             ],
             [
              0.1111111111111111,
              "#46039f"
             ],
             [
              0.2222222222222222,
              "#7201a8"
             ],
             [
              0.3333333333333333,
              "#9c179e"
             ],
             [
              0.4444444444444444,
              "#bd3786"
             ],
             [
              0.5555555555555556,
              "#d8576b"
             ],
             [
              0.6666666666666666,
              "#ed7953"
             ],
             [
              0.7777777777777778,
              "#fb9f3a"
             ],
             [
              0.8888888888888888,
              "#fdca26"
             ],
             [
              1,
              "#f0f921"
             ]
            ],
            "type": "histogram2dcontour"
           }
          ],
          "mesh3d": [
           {
            "colorbar": {
             "outlinewidth": 0,
             "ticks": ""
            },
            "type": "mesh3d"
           }
          ],
          "parcoords": [
           {
            "line": {
             "colorbar": {
              "outlinewidth": 0,
              "ticks": ""
             }
            },
            "type": "parcoords"
           }
          ],
          "pie": [
           {
            "automargin": true,
            "type": "pie"
           }
          ],
          "scatter": [
           {
            "marker": {
             "colorbar": {
              "outlinewidth": 0,
              "ticks": ""
             }
            },
            "type": "scatter"
           }
          ],
          "scatter3d": [
           {
            "line": {
             "colorbar": {
              "outlinewidth": 0,
              "ticks": ""
             }
            },
            "marker": {
             "colorbar": {
              "outlinewidth": 0,
              "ticks": ""
             }
            },
            "type": "scatter3d"
           }
          ],
          "scattercarpet": [
           {
            "marker": {
             "colorbar": {
              "outlinewidth": 0,
              "ticks": ""
             }
            },
            "type": "scattercarpet"
           }
          ],
          "scattergeo": [
           {
            "marker": {
             "colorbar": {
              "outlinewidth": 0,
              "ticks": ""
             }
            },
            "type": "scattergeo"
           }
          ],
          "scattergl": [
           {
            "marker": {
             "colorbar": {
              "outlinewidth": 0,
              "ticks": ""
             }
            },
            "type": "scattergl"
           }
          ],
          "scattermapbox": [
           {
            "marker": {
             "colorbar": {
              "outlinewidth": 0,
              "ticks": ""
             }
            },
            "type": "scattermapbox"
           }
          ],
          "scatterpolar": [
           {
            "marker": {
             "colorbar": {
              "outlinewidth": 0,
              "ticks": ""
             }
            },
            "type": "scatterpolar"
           }
          ],
          "scatterpolargl": [
           {
            "marker": {
             "colorbar": {
              "outlinewidth": 0,
              "ticks": ""
             }
            },
            "type": "scatterpolargl"
           }
          ],
          "scatterternary": [
           {
            "marker": {
             "colorbar": {
              "outlinewidth": 0,
              "ticks": ""
             }
            },
            "type": "scatterternary"
           }
          ],
          "surface": [
           {
            "colorbar": {
             "outlinewidth": 0,
             "ticks": ""
            },
            "colorscale": [
             [
              0,
              "#0d0887"
             ],
             [
              0.1111111111111111,
              "#46039f"
             ],
             [
              0.2222222222222222,
              "#7201a8"
             ],
             [
              0.3333333333333333,
              "#9c179e"
             ],
             [
              0.4444444444444444,
              "#bd3786"
             ],
             [
              0.5555555555555556,
              "#d8576b"
             ],
             [
              0.6666666666666666,
              "#ed7953"
             ],
             [
              0.7777777777777778,
              "#fb9f3a"
             ],
             [
              0.8888888888888888,
              "#fdca26"
             ],
             [
              1,
              "#f0f921"
             ]
            ],
            "type": "surface"
           }
          ],
          "table": [
           {
            "cells": {
             "fill": {
              "color": "#EBF0F8"
             },
             "line": {
              "color": "white"
             }
            },
            "header": {
             "fill": {
              "color": "#C8D4E3"
             },
             "line": {
              "color": "white"
             }
            },
            "type": "table"
           }
          ]
         },
         "layout": {
          "annotationdefaults": {
           "arrowcolor": "#2a3f5f",
           "arrowhead": 0,
           "arrowwidth": 1
          },
          "autotypenumbers": "strict",
          "coloraxis": {
           "colorbar": {
            "outlinewidth": 0,
            "ticks": ""
           }
          },
          "colorscale": {
           "diverging": [
            [
             0,
             "#8e0152"
            ],
            [
             0.1,
             "#c51b7d"
            ],
            [
             0.2,
             "#de77ae"
            ],
            [
             0.3,
             "#f1b6da"
            ],
            [
             0.4,
             "#fde0ef"
            ],
            [
             0.5,
             "#f7f7f7"
            ],
            [
             0.6,
             "#e6f5d0"
            ],
            [
             0.7,
             "#b8e186"
            ],
            [
             0.8,
             "#7fbc41"
            ],
            [
             0.9,
             "#4d9221"
            ],
            [
             1,
             "#276419"
            ]
           ],
           "sequential": [
            [
             0,
             "#0d0887"
            ],
            [
             0.1111111111111111,
             "#46039f"
            ],
            [
             0.2222222222222222,
             "#7201a8"
            ],
            [
             0.3333333333333333,
             "#9c179e"
            ],
            [
             0.4444444444444444,
             "#bd3786"
            ],
            [
             0.5555555555555556,
             "#d8576b"
            ],
            [
             0.6666666666666666,
             "#ed7953"
            ],
            [
             0.7777777777777778,
             "#fb9f3a"
            ],
            [
             0.8888888888888888,
             "#fdca26"
            ],
            [
             1,
             "#f0f921"
            ]
           ],
           "sequentialminus": [
            [
             0,
             "#0d0887"
            ],
            [
             0.1111111111111111,
             "#46039f"
            ],
            [
             0.2222222222222222,
             "#7201a8"
            ],
            [
             0.3333333333333333,
             "#9c179e"
            ],
            [
             0.4444444444444444,
             "#bd3786"
            ],
            [
             0.5555555555555556,
             "#d8576b"
            ],
            [
             0.6666666666666666,
             "#ed7953"
            ],
            [
             0.7777777777777778,
             "#fb9f3a"
            ],
            [
             0.8888888888888888,
             "#fdca26"
            ],
            [
             1,
             "#f0f921"
            ]
           ]
          },
          "colorway": [
           "#636efa",
           "#EF553B",
           "#00cc96",
           "#ab63fa",
           "#FFA15A",
           "#19d3f3",
           "#FF6692",
           "#B6E880",
           "#FF97FF",
           "#FECB52"
          ],
          "font": {
           "color": "#2a3f5f"
          },
          "geo": {
           "bgcolor": "white",
           "lakecolor": "white",
           "landcolor": "#E5ECF6",
           "showlakes": true,
           "showland": true,
           "subunitcolor": "white"
          },
          "hoverlabel": {
           "align": "left"
          },
          "hovermode": "closest",
          "mapbox": {
           "style": "light"
          },
          "paper_bgcolor": "white",
          "plot_bgcolor": "#E5ECF6",
          "polar": {
           "angularaxis": {
            "gridcolor": "white",
            "linecolor": "white",
            "ticks": ""
           },
           "bgcolor": "#E5ECF6",
           "radialaxis": {
            "gridcolor": "white",
            "linecolor": "white",
            "ticks": ""
           }
          },
          "scene": {
           "xaxis": {
            "backgroundcolor": "#E5ECF6",
            "gridcolor": "white",
            "gridwidth": 2,
            "linecolor": "white",
            "showbackground": true,
            "ticks": "",
            "zerolinecolor": "white"
           },
           "yaxis": {
            "backgroundcolor": "#E5ECF6",
            "gridcolor": "white",
            "gridwidth": 2,
            "linecolor": "white",
            "showbackground": true,
            "ticks": "",
            "zerolinecolor": "white"
           },
           "zaxis": {
            "backgroundcolor": "#E5ECF6",
            "gridcolor": "white",
            "gridwidth": 2,
            "linecolor": "white",
            "showbackground": true,
            "ticks": "",
            "zerolinecolor": "white"
           }
          },
          "shapedefaults": {
           "line": {
            "color": "#2a3f5f"
           }
          },
          "ternary": {
           "aaxis": {
            "gridcolor": "white",
            "linecolor": "white",
            "ticks": ""
           },
           "baxis": {
            "gridcolor": "white",
            "linecolor": "white",
            "ticks": ""
           },
           "bgcolor": "#E5ECF6",
           "caxis": {
            "gridcolor": "white",
            "linecolor": "white",
            "ticks": ""
           }
          },
          "title": {
           "x": 0.05
          },
          "xaxis": {
           "automargin": true,
           "gridcolor": "white",
           "linecolor": "white",
           "ticks": "",
           "title": {
            "standoff": 15
           },
           "zerolinecolor": "white",
           "zerolinewidth": 2
          },
          "yaxis": {
           "automargin": true,
           "gridcolor": "white",
           "linecolor": "white",
           "ticks": "",
           "title": {
            "standoff": 15
           },
           "zerolinecolor": "white",
           "zerolinewidth": 2
          }
         }
        },
        "title": {
         "text": "Energy forecast for 2050<br>Source: Department of Energy & Climate Change, Tom Counsell via <a href='https://bost.ocks.org/mike/sankey/'>Mike Bostock</a>"
        }
       }
      },
      "image/png": "[encoded data removed]",
      "text/html": [
       "<div>                            <div id=\"5185e9fc-6d7a-455a-8a42-1e345f972b3d\" class=\"plotly-graph-div\" style=\"height:525px; width:100%;\"></div>            <script type=\"text/javascript\">                require([\"plotly\"], function(Plotly) {                    window.PLOTLYENV=window.PLOTLYENV || {};                                    if (document.getElementById(\"5185e9fc-6d7a-455a-8a42-1e345f972b3d\")) {                    Plotly.newPlot(                        \"5185e9fc-6d7a-455a-8a42-1e345f972b3d\",                        [{\"link\":{\"color\":[\"rgba(31, 119, 180, 0.4)\",\"rgba(255, 127, 14, 0.4)\",\"rgba(255, 127, 14, 0.4)\",\"rgba(255, 127, 14, 0.4)\",\"rgba(255, 127, 14, 0.4)\",\"rgba(227, 119, 194, 0.4)\",\"rgba(127, 127, 127, 0.4)\",\"rgba(188, 189, 34, 0.4)\",\"rgba(31, 119, 180, 0.4)\",\"rgba(23, 190, 207, 0.4)\",\"rgba(255, 127, 14, 0.4)\",\"rgba(255, 127, 14, 0.4)\",\"rgba(255, 127, 14, 0.4)\",\"rgba(140, 86, 75, 0.4)\",\"rgba(140, 86, 75, 0.4)\",\"rgba(140, 86, 75, 0.4)\",\"rgba(140, 86, 75, 0.4)\",\"rgba(140, 86, 75, 0.4)\",\"rgba(140, 86, 75, 0.4)\",\"rgba(140, 86, 75, 0.4)\",\"rgba(140, 86, 75, 0.4)\",\"rgba(140, 86, 75, 0.4)\",\"rgba(140, 86, 75, 0.4)\",\"rgba(140, 86, 75, 0.4)\",\"rgba(214, 39, 40, 0.4)\",\"rgba(140, 86, 75, 0.4)\",\"rgba(140, 86, 75, 0.4)\",\"rgba(140, 86, 75, 0.4)\",\"rgba(140, 86, 75, 0.4)\",\"rgba(140, 86, 75, 0.4)\",\"rgba(140, 86, 75, 0.4)\",\"rgba(127, 127, 127, 0.4)\",\"rgba(127, 127, 127, 0.4)\",\"rgba(127, 127, 127, 0.4)\",\"rgba(188, 189, 34, 0.4)\",\"rgba(23, 190, 207, 0.4)\",\"rgba(44, 160, 44, 0.4)\",\"rgba(44, 160, 44, 0.4)\",\"rgba(44, 160, 44, 0.4)\",\"rgba(44, 160, 44, 0.4)\",\"rgba(44, 160, 44, 0.4)\",\"rgba(44, 160, 44, 0.4)\",\"rgba(44, 160, 44, 0.4)\",\"rgba(44, 160, 44, 0.4)\",\"rgba(148, 103, 189, 0.4)\",\"rgba(148, 103, 189, 0.4)\",\"rgba(255,0,255, 0.4)\",\"rgba(255,0,255, 0.4)\",\"rgba(227, 119, 194, 0.4)\",\"rgba(188, 189, 34, 0.4)\",\"rgba(127, 127, 127, 0.4)\",\"rgba(23, 190, 207, 0.4)\",\"rgba(23, 190, 207, 0.4)\",\"rgba(31, 119, 180, 0.4)\",\"rgba(31, 119, 180, 0.4)\",\"rgba(255, 127, 14, 0.4)\",\"rgba(44, 160, 44, 0.4)\",\"rgba(214, 39, 40, 0.4)\",\"rgba(214, 39, 40, 0.4)\",\"rgba(148, 103, 189, 0.4)\",\"rgba(148, 103, 189, 0.4)\",\"rgba(148, 103, 189, 0.4)\",\"rgba(227, 119, 194, 0.4)\",\"rgba(227, 119, 194, 0.4)\",\"rgba(227, 119, 194, 0.4)\",\"rgba(148, 103, 189, 0.4)\",\"rgba(140, 86, 75, 0.4)\",\"rgba(227, 119, 194, 0.4)\",\"rgba(127, 127, 127, 0.4)\",\"rgba(255,0,255, 0.4)\",\"rgba(255,0,255, 0.4)\"],\"label\":[\"stream 1\",\"\",\"\",\"\",\"stream 1\",\"\",\"\",\"\",\"\",\"\",\"\",\"\",\"\",\"\",\"\",\"\",\"\",\"\",\"\",\"\",\"\",\"\",\"\",\"\",\"\",\"\",\"\",\"\",\"\",\"\",\"stream 1\",\"\",\"\",\"\",\"\",\"\",\"\",\"\",\"\",\"\",\"\",\"\",\"\",\"\",\"\",\"\",\"Old generation plant (made-up)\",\"New generation plant (made-up)\",\"\",\"\",\"\",\"\",\"\",\"\",\"\",\"\",\"\",\"\",\"\",\"\",\"\",\"\",\"\",\"\",\"\",\"\",\"\",\"\",\"\",\"\",\"\"],\"source\":[0,1,1,1,1,6,7,8,10,9,11,11,11,15,15,15,15,15,15,15,15,15,15,15,23,25,5,5,5,5,5,27,17,17,28,29,2,2,2,2,2,2,2,2,34,24,35,35,36,38,37,39,39,40,40,41,42,43,43,4,4,4,26,26,26,44,45,46,47,35,35],\"target\":[1,2,3,4,5,2,4,9,9,4,12,13,14,16,14,17,12,18,19,13,3,20,21,22,24,24,13,3,26,19,12,15,28,3,18,15,12,30,18,31,32,19,33,20,1,5,26,26,37,37,2,4,1,14,13,15,14,42,41,19,26,12,15,3,11,15,1,15,15,26,26],\"value\":[124.729,0.597,26.862,280.322,81.144,35,35,11.606,63.965,75.571,10.639,22.505,46.184,104.453,113.726,27.14,342.165,37.797,4.412,40.858,56.691,7.863,90.008,93.494,40.719,82.233,0.129,1.401,151.891,2.096,48.58,7.013,20.897,6.242,20.897,6.995,121.066,128.69,135.835,14.458,206.267,3.64,33.218,4.413,14.375,122.952,500,139.978,504.287,107.703,611.99,56.587,77.81,193.026,70.672,59.901,19.263,19.263,59.901,0.882,400.12,46.477,525.531,787.129,79.329,9.452,182.01,19.013,289.366,100,100]},\"node\":{\"color\":[\"rgba(31, 119, 180, 0.8)\",\"rgba(255, 127, 14, 0.8)\",\"rgba(44, 160, 44, 0.8)\",\"rgba(214, 39, 40, 0.8)\",\"rgba(148, 103, 189, 0.8)\",\"rgba(140, 86, 75, 0.8)\",\"rgba(227, 119, 194, 0.8)\",\"rgba(127, 127, 127, 0.8)\",\"rgba(188, 189, 34, 0.8)\",\"rgba(23, 190, 207, 0.8)\",\"rgba(31, 119, 180, 0.8)\",\"rgba(255, 127, 14, 0.8)\",\"rgba(44, 160, 44, 0.8)\",\"rgba(214, 39, 40, 0.8)\",\"rgba(148, 103, 189, 0.8)\",\"rgba(140, 86, 75, 0.8)\",\"rgba(227, 119, 194, 0.8)\",\"rgba(127, 127, 127, 0.8)\",\"rgba(188, 189, 34, 0.8)\",\"rgba(23, 190, 207, 0.8)\",\"rgba(31, 119, 180, 0.8)\",\"rgba(255, 127, 14, 0.8)\",\"rgba(44, 160, 44, 0.8)\",\"rgba(214, 39, 40, 0.8)\",\"rgba(148, 103, 189, 0.8)\",\"rgba(140, 86, 75, 0.8)\",\"rgba(227, 119, 194, 0.8)\",\"rgba(127, 127, 127, 0.8)\",\"rgba(188, 189, 34, 0.8)\",\"rgba(23, 190, 207, 0.8)\",\"rgba(31, 119, 180, 0.8)\",\"rgba(255, 127, 14, 0.8)\",\"rgba(44, 160, 44, 0.8)\",\"rgba(214, 39, 40, 0.8)\",\"rgba(148, 103, 189, 0.8)\",\"rgba(255,0,255, 0.8)\",\"rgba(227, 119, 194, 0.8)\",\"rgba(127, 127, 127, 0.8)\",\"rgba(188, 189, 34, 0.8)\",\"rgba(23, 190, 207, 0.8)\",\"rgba(31, 119, 180, 0.8)\",\"rgba(255, 127, 14, 0.8)\",\"rgba(44, 160, 44, 0.8)\",\"rgba(214, 39, 40, 0.8)\",\"rgba(148, 103, 189, 0.8)\",\"rgba(140, 86, 75, 0.8)\",\"rgba(227, 119, 194, 0.8)\",\"rgba(127, 127, 127, 0.8)\"],\"label\":[\"Agricultural 'waste'\",\"Bio-conversion\",\"Liquid\",\"Losses\",\"Solid\",\"Gas\",\"Biofuel imports\",\"Biomass imports\",\"Coal imports\",\"Coal\",\"Coal reserves\",\"District heating\",\"Industry\",\"Heating and cooling - commercial\",\"Heating and cooling - homes\",\"Electricity grid\",\"Over generation / exports\",\"H2 conversion\",\"Road transport\",\"Agriculture\",\"Rail transport\",\"Lighting & appliances - commercial\",\"Lighting & appliances - homes\",\"Gas imports\",\"Ngas\",\"Gas reserves\",\"Thermal generation\",\"Geothermal\",\"H2\",\"Hydro\",\"International shipping\",\"Domestic aviation\",\"International aviation\",\"National navigation\",\"Marine algae\",\"Nuclear\",\"Oil imports\",\"Oil\",\"Oil reserves\",\"Other waste\",\"Pumped heat\",\"Solar PV\",\"Solar Thermal\",\"Solar\",\"Tidal\",\"UK land based bioenergy\",\"Wave\",\"Wind\"],\"line\":{\"color\":\"black\",\"width\":0.5},\"pad\":15,\"thickness\":15},\"type\":\"sankey\",\"valueformat\":\".0f\",\"valuesuffix\":\"TWh\"}],                        {\"font\":{\"size\":10},\"template\":{\"data\":{\"bar\":[{\"error_x\":{\"color\":\"#2a3f5f\"},\"error_y\":{\"color\":\"#2a3f5f\"},\"marker\":{\"line\":{\"color\":\"#E5ECF6\",\"width\":0.5},\"pattern\":{\"fillmode\":\"overlay\",\"size\":10,\"solidity\":0.2}},\"type\":\"bar\"}],\"barpolar\":[{\"marker\":{\"line\":{\"color\":\"#E5ECF6\",\"width\":0.5},\"pattern\":{\"fillmode\":\"overlay\",\"size\":10,\"solidity\":0.2}},\"type\":\"barpolar\"}],\"carpet\":[{\"aaxis\":{\"endlinecolor\":\"#2a3f5f\",\"gridcolor\":\"white\",\"linecolor\":\"white\",\"minorgridcolor\":\"white\",\"startlinecolor\":\"#2a3f5f\"},\"baxis\":{\"endlinecolor\":\"#2a3f5f\",\"gridcolor\":\"white\",\"linecolor\":\"white\",\"minorgridcolor\":\"white\",\"startlinecolor\":\"#2a3f5f\"},\"type\":\"carpet\"}],\"choropleth\":[{\"colorbar\":{\"outlinewidth\":0,\"ticks\":\"\"},\"type\":\"choropleth\"}],\"contour\":[{\"colorbar\":{\"outlinewidth\":0,\"ticks\":\"\"},\"colorscale\":[[0.0,\"#0d0887\"],[0.1111111111111111,\"#46039f\"],[0.2222222222222222,\"#7201a8\"],[0.3333333333333333,\"#9c179e\"],[0.4444444444444444,\"#bd3786\"],[0.5555555555555556,\"#d8576b\"],[0.6666666666666666,\"#ed7953\"],[0.7777777777777778,\"#fb9f3a\"],[0.8888888888888888,\"#fdca26\"],[1.0,\"#f0f921\"]],\"type\":\"contour\"}],\"contourcarpet\":[{\"colorbar\":{\"outlinewidth\":0,\"ticks\":\"\"},\"type\":\"contourcarpet\"}],\"heatmap\":[{\"colorbar\":{\"outlinewidth\":0,\"ticks\":\"\"},\"colorscale\":[[0.0,\"#0d0887\"],[0.1111111111111111,\"#46039f\"],[0.2222222222222222,\"#7201a8\"],[0.3333333333333333,\"#9c179e\"],[0.4444444444444444,\"#bd3786\"],[0.5555555555555556,\"#d8576b\"],[0.6666666666666666,\"#ed7953\"],[0.7777777777777778,\"#fb9f3a\"],[0.8888888888888888,\"#fdca26\"],[1.0,\"#f0f921\"]],\"type\":\"heatmap\"}],\"heatmapgl\":[{\"colorbar\":{\"outlinewidth\":0,\"ticks\":\"\"},\"colorscale\":[[0.0,\"#0d0887\"],[0.1111111111111111,\"#46039f\"],[0.2222222222222222,\"#7201a8\"],[0.3333333333333333,\"#9c179e\"],[0.4444444444444444,\"#bd3786\"],[0.5555555555555556,\"#d8576b\"],[0.6666666666666666,\"#ed7953\"],[0.7777777777777778,\"#fb9f3a\"],[0.8888888888888888,\"#fdca26\"],[1.0,\"#f0f921\"]],\"type\":\"heatmapgl\"}],\"histogram\":[{\"marker\":{\"pattern\":{\"fillmode\":\"overlay\",\"size\":10,\"solidity\":0.2}},\"type\":\"histogram\"}],\"histogram2d\":[{\"colorbar\":{\"outlinewidth\":0,\"ticks\":\"\"},\"colorscale\":[[0.0,\"#0d0887\"],[0.1111111111111111,\"#46039f\"],[0.2222222222222222,\"#7201a8\"],[0.3333333333333333,\"#9c179e\"],[0.4444444444444444,\"#bd3786\"],[0.5555555555555556,\"#d8576b\"],[0.6666666666666666,\"#ed7953\"],[0.7777777777777778,\"#fb9f3a\"],[0.8888888888888888,\"#fdca26\"],[1.0,\"#f0f921\"]],\"type\":\"histogram2d\"}],\"histogram2dcontour\":[{\"colorbar\":{\"outlinewidth\":0,\"ticks\":\"\"},\"colorscale\":[[0.0,\"#0d0887\"],[0.1111111111111111,\"#46039f\"],[0.2222222222222222,\"#7201a8\"],[0.3333333333333333,\"#9c179e\"],[0.4444444444444444,\"#bd3786\"],[0.5555555555555556,\"#d8576b\"],[0.6666666666666666,\"#ed7953\"],[0.7777777777777778,\"#fb9f3a\"],[0.8888888888888888,\"#fdca26\"],[1.0,\"#f0f921\"]],\"type\":\"histogram2dcontour\"}],\"mesh3d\":[{\"colorbar\":{\"outlinewidth\":0,\"ticks\":\"\"},\"type\":\"mesh3d\"}],\"parcoords\":[{\"line\":{\"colorbar\":{\"outlinewidth\":0,\"ticks\":\"\"}},\"type\":\"parcoords\"}],\"pie\":[{\"automargin\":true,\"type\":\"pie\"}],\"scatter\":[{\"marker\":{\"colorbar\":{\"outlinewidth\":0,\"ticks\":\"\"}},\"type\":\"scatter\"}],\"scatter3d\":[{\"line\":{\"colorbar\":{\"outlinewidth\":0,\"ticks\":\"\"}},\"marker\":{\"colorbar\":{\"outlinewidth\":0,\"ticks\":\"\"}},\"type\":\"scatter3d\"}],\"scattercarpet\":[{\"marker\":{\"colorbar\":{\"outlinewidth\":0,\"ticks\":\"\"}},\"type\":\"scattercarpet\"}],\"scattergeo\":[{\"marker\":{\"colorbar\":{\"outlinewidth\":0,\"ticks\":\"\"}},\"type\":\"scattergeo\"}],\"scattergl\":[{\"marker\":{\"colorbar\":{\"outlinewidth\":0,\"ticks\":\"\"}},\"type\":\"scattergl\"}],\"scattermapbox\":[{\"marker\":{\"colorbar\":{\"outlinewidth\":0,\"ticks\":\"\"}},\"type\":\"scattermapbox\"}],\"scatterpolar\":[{\"marker\":{\"colorbar\":{\"outlinewidth\":0,\"ticks\":\"\"}},\"type\":\"scatterpolar\"}],\"scatterpolargl\":[{\"marker\":{\"colorbar\":{\"outlinewidth\":0,\"ticks\":\"\"}},\"type\":\"scatterpolargl\"}],\"scatterternary\":[{\"marker\":{\"colorbar\":{\"outlinewidth\":0,\"ticks\":\"\"}},\"type\":\"scatterternary\"}],\"surface\":[{\"colorbar\":{\"outlinewidth\":0,\"ticks\":\"\"},\"colorscale\":[[0.0,\"#0d0887\"],[0.1111111111111111,\"#46039f\"],[0.2222222222222222,\"#7201a8\"],[0.3333333333333333,\"#9c179e\"],[0.4444444444444444,\"#bd3786\"],[0.5555555555555556,\"#d8576b\"],[0.6666666666666666,\"#ed7953\"],[0.7777777777777778,\"#fb9f3a\"],[0.8888888888888888,\"#fdca26\"],[1.0,\"#f0f921\"]],\"type\":\"surface\"}],\"table\":[{\"cells\":{\"fill\":{\"color\":\"#EBF0F8\"},\"line\":{\"color\":\"white\"}},\"header\":{\"fill\":{\"color\":\"#C8D4E3\"},\"line\":{\"color\":\"white\"}},\"type\":\"table\"}]},\"layout\":{\"annotationdefaults\":{\"arrowcolor\":\"#2a3f5f\",\"arrowhead\":0,\"arrowwidth\":1},\"autotypenumbers\":\"strict\",\"coloraxis\":{\"colorbar\":{\"outlinewidth\":0,\"ticks\":\"\"}},\"colorscale\":{\"diverging\":[[0,\"#8e0152\"],[0.1,\"#c51b7d\"],[0.2,\"#de77ae\"],[0.3,\"#f1b6da\"],[0.4,\"#fde0ef\"],[0.5,\"#f7f7f7\"],[0.6,\"#e6f5d0\"],[0.7,\"#b8e186\"],[0.8,\"#7fbc41\"],[0.9,\"#4d9221\"],[1,\"#276419\"]],\"sequential\":[[0.0,\"#0d0887\"],[0.1111111111111111,\"#46039f\"],[0.2222222222222222,\"#7201a8\"],[0.3333333333333333,\"#9c179e\"],[0.4444444444444444,\"#bd3786\"],[0.5555555555555556,\"#d8576b\"],[0.6666666666666666,\"#ed7953\"],[0.7777777777777778,\"#fb9f3a\"],[0.8888888888888888,\"#fdca26\"],[1.0,\"#f0f921\"]],\"sequentialminus\":[[0.0,\"#0d0887\"],[0.1111111111111111,\"#46039f\"],[0.2222222222222222,\"#7201a8\"],[0.3333333333333333,\"#9c179e\"],[0.4444444444444444,\"#bd3786\"],[0.5555555555555556,\"#d8576b\"],[0.6666666666666666,\"#ed7953\"],[0.7777777777777778,\"#fb9f3a\"],[0.8888888888888888,\"#fdca26\"],[1.0,\"#f0f921\"]]},\"colorway\":[\"#636efa\",\"#EF553B\",\"#00cc96\",\"#ab63fa\",\"#FFA15A\",\"#19d3f3\",\"#FF6692\",\"#B6E880\",\"#FF97FF\",\"#FECB52\"],\"font\":{\"color\":\"#2a3f5f\"},\"geo\":{\"bgcolor\":\"white\",\"lakecolor\":\"white\",\"landcolor\":\"#E5ECF6\",\"showlakes\":true,\"showland\":true,\"subunitcolor\":\"white\"},\"hoverlabel\":{\"align\":\"left\"},\"hovermode\":\"closest\",\"mapbox\":{\"style\":\"light\"},\"paper_bgcolor\":\"white\",\"plot_bgcolor\":\"#E5ECF6\",\"polar\":{\"angularaxis\":{\"gridcolor\":\"white\",\"linecolor\":\"white\",\"ticks\":\"\"},\"bgcolor\":\"#E5ECF6\",\"radialaxis\":{\"gridcolor\":\"white\",\"linecolor\":\"white\",\"ticks\":\"\"}},\"scene\":{\"xaxis\":{\"backgroundcolor\":\"#E5ECF6\",\"gridcolor\":\"white\",\"gridwidth\":2,\"linecolor\":\"white\",\"showbackground\":true,\"ticks\":\"\",\"zerolinecolor\":\"white\"},\"yaxis\":{\"backgroundcolor\":\"#E5ECF6\",\"gridcolor\":\"white\",\"gridwidth\":2,\"linecolor\":\"white\",\"showbackground\":true,\"ticks\":\"\",\"zerolinecolor\":\"white\"},\"zaxis\":{\"backgroundcolor\":\"#E5ECF6\",\"gridcolor\":\"white\",\"gridwidth\":2,\"linecolor\":\"white\",\"showbackground\":true,\"ticks\":\"\",\"zerolinecolor\":\"white\"}},\"shapedefaults\":{\"line\":{\"color\":\"#2a3f5f\"}},\"ternary\":{\"aaxis\":{\"gridcolor\":\"white\",\"linecolor\":\"white\",\"ticks\":\"\"},\"baxis\":{\"gridcolor\":\"white\",\"linecolor\":\"white\",\"ticks\":\"\"},\"bgcolor\":\"#E5ECF6\",\"caxis\":{\"gridcolor\":\"white\",\"linecolor\":\"white\",\"ticks\":\"\"}},\"title\":{\"x\":0.05},\"xaxis\":{\"automargin\":true,\"gridcolor\":\"white\",\"linecolor\":\"white\",\"ticks\":\"\",\"title\":{\"standoff\":15},\"zerolinecolor\":\"white\",\"zerolinewidth\":2},\"yaxis\":{\"automargin\":true,\"gridcolor\":\"white\",\"linecolor\":\"white\",\"ticks\":\"\",\"title\":{\"standoff\":15},\"zerolinecolor\":\"white\",\"zerolinewidth\":2}}},\"title\":{\"text\":\"Energy forecast for 2050<br>Source: Department of Energy & Climate Change, Tom Counsell via <a href='https://bost.ocks.org/mike/sankey/'>Mike Bostock</a>\"}},                        {\"responsive\": true}                    ).then(function(){\n",
       "                            \n",
       "var gd = document.getElementById('5185e9fc-6d7a-455a-8a42-1e345f972b3d');\n",
       "var x = new MutationObserver(function (mutations, observer) {{\n",
       "        var display = window.getComputedStyle(gd).display;\n",
       "        if (!display || display === 'none') {{\n",
       "            console.log([gd, 'removed!']);\n",
       "            Plotly.purge(gd);\n",
       "            observer.disconnect();\n",
       "        }}\n",
       "}});\n",
       "\n",
       "// Listen for the removal of the full notebook cells\n",
       "var notebookContainer = gd.closest('#notebook-container');\n",
       "if (notebookContainer) {{\n",
       "    x.observe(notebookContainer, {childList: true});\n",
       "}}\n",
       "\n",
       "// Listen for the clearing of the current output cell\n",
       "var outputEl = gd.closest('.output');\n",
       "if (outputEl) {{\n",
       "    x.observe(outputEl, {childList: true});\n",
       "}}\n",
       "\n",
       "                        })                };                });            </script>        </div>"
      ]
     },
     "metadata": {},
     "output_type": "display_data"
    }
   ],
   "source": [
    "fig = go.Figure(data=[go.Sankey(\n",
    "    valueformat = \".0f\",\n",
    "    valuesuffix = \"TWh\",\n",
    "    # Define nodes\n",
    "    node = dict(\n",
    "      pad = 15,\n",
    "      thickness = 15,\n",
    "      line = dict(color = \"black\", width = 0.5),\n",
    "      label =  data['data'][0]['node']['label'],\n",
    "      color =  data['data'][0]['node']['color']\n",
    "    ),\n",
    "    # Add links\n",
    "    link = dict(\n",
    "      source =  data['data'][0]['link']['source'],\n",
    "      target =  data['data'][0]['link']['target'],\n",
    "      value =  data['data'][0]['link']['value'],\n",
    "      label =  data['data'][0]['link']['label'],\n",
    "      color =  data['data'][0]['link']['color']\n",
    "))])\n",
    "\n",
    "fig.update_layout(title_text=\"Energy forecast for 2050<br>Source: Department of Energy & Climate Change, Tom Counsell via <a href='https://bost.ocks.org/mike/sankey/'>Mike Bostock</a>\",\n",
    "                  font_size=10)"
   ]
  },
  {
   "cell_type": "code",
   "execution_count": 27,
   "id": "killing-break",
   "metadata": {},
   "outputs": [],
   "source": [
    "label =  data['data'][0]['node']['label']    \n",
    "source =  data['data'][0]['link']['source']\n",
    "target =  data['data'][0]['link']['target']"
   ]
  },
  {
   "cell_type": "code",
   "execution_count": 32,
   "id": "institutional-crowd",
   "metadata": {},
   "outputs": [
    {
     "name": "stdout",
     "output_type": "stream",
     "text": [
      "District heating -> Industry 11 12\n",
      "District heating -> Heating and cooling - commercial 11 13\n",
      "District heating -> Heating and cooling - homes 11 14\n",
      "Electricity grid -> Over generation / exports 15 16\n",
      "Electricity grid -> Heating and cooling - homes 15 14\n"
     ]
    }
   ],
   "source": [
    "for i in range(10,15):\n",
    "    print(label[source[i]],\"->\",label[target[i]], source[i], target[i])"
   ]
  },
  {
   "cell_type": "code",
   "execution_count": 94,
   "id": "differential-locator",
   "metadata": {},
   "outputs": [],
   "source": [
    "NAMES = [\"Stephan\", \"Lukas\", \"Tobias\", \"Micha\"]\n",
    "PROJECTS = [\"Ebener\", \"Leitmittel\", \"Diss\", \"Plansee\", \"Voest\"]\n",
    "\n",
    "SOURCE_TARGETS = {\"Stephan\" : { \"src\":0, \"trgt\":[4,5], \"partition\":[0.9,0.1]}, \n",
    "                  \"Lukas\" : {\"src\":1, \"trgt\":[4, 5, 6], \"partition\":[0.2, 0.1, 0.7]},\n",
    "                  \"Tobias\" : {\"src\": 2, \"trgt\" : [5], \"partition\":[1]},\n",
    "                  \"Micha\" : {\"src\": 3, \"trgt\": [5, 7, 8], \"partition\":[0.1, 0.55, 0.35]},\n",
    "                 }"
   ]
  },
  {
   "cell_type": "code",
   "execution_count": 121,
   "id": "average-dietary",
   "metadata": {},
   "outputs": [],
   "source": [
    "import itertools\n",
    "import numpy as np"
   ]
  },
  {
   "cell_type": "code",
   "execution_count": 96,
   "id": "latest-australia",
   "metadata": {},
   "outputs": [],
   "source": [
    "sources = [v[\"src\"] for v in list(SOURCE_TARGETS.values()) for v1 in v[\"trgt\"]]\n",
    "targets = list(itertools.chain(*[v[\"trgt\"] for v in list(SOURCE_TARGETS.values())]))\n",
    "values = list(itertools.chain(*[v[\"partition\"] for v in list(SOURCE_TARGETS.values())]))"
   ]
  },
  {
   "cell_type": "code",
   "execution_count": 178,
   "id": "norwegian-cheat",
   "metadata": {},
   "outputs": [],
   "source": [
    "# https://www.google.com/search?client=firefox-b-d&q=%23e41a1c for HEX color codes\n",
    "color_list = [\"\"] * len(NAMES) + ['rgba(228, 26, 28, 0.5)', 'rgba(127, 156, 250, 0.7)', 'rgba(228, 26, 2, 0.5)', 'rgba(106, 250, 2, 0.5)', 'rgba(16, 2, 217, 0.5)']\n",
    "colors = [color_list[t] for t in targets]"
   ]
  },
  {
   "cell_type": "code",
   "execution_count": 183,
   "id": "capital-walker",
   "metadata": {},
   "outputs": [
    {
     "data": {
      "application/vnd.plotly.v1+json": {
       "config": {
        "plotlyServerURL": "https://plot.ly"
       },
       "data": [
        {
         "arrangement": "snap",
         "link": {
          "color": [
           "rgba(228, 26, 28, 0.5)",
           "rgba(127, 156, 250, 0.7)",
           "rgba(228, 26, 28, 0.5)",
           "rgba(127, 156, 250, 0.7)",
           "rgba(228, 26, 2, 0.5)",
           "rgba(127, 156, 250, 0.7)",
           "rgba(127, 156, 250, 0.7)",
           "rgba(106, 250, 2, 0.5)",
           "rgba(16, 2, 217, 0.5)"
          ],
          "source": [
           0,
           0,
           1,
           1,
           1,
           2,
           3,
           3,
           3
          ],
          "target": [
           4,
           5,
           4,
           5,
           6,
           5,
           5,
           7,
           8
          ],
          "value": [
           0.9,
           0.1,
           0.2,
           0.1,
           0.7,
           1,
           0.1,
           0.55,
           0.35
          ]
         },
         "node": {
          "color": [
           "#adacac",
           "#adacac",
           "#adacac",
           "#adacac",
           "#969595",
           "#969595",
           "#969595",
           "#969595",
           "#969595"
          ],
          "label": [
           "Stephan",
           "Lukas",
           "Tobias",
           "Micha",
           "Ebener",
           "Leitmittel",
           "Diss",
           "Plansee",
           "Voest"
          ],
          "line": {
           "color": "#969595",
           "width": 0.5
          },
          "pad": 20,
          "thickness": 5
         },
         "type": "sankey"
        }
       ],
       "layout": {
        "autosize": true,
        "font": {
         "size": 20
        },
        "template": {
         "data": {
          "bar": [
           {
            "error_x": {
             "color": "#2a3f5f"
            },
            "error_y": {
             "color": "#2a3f5f"
            },
            "marker": {
             "line": {
              "color": "#E5ECF6",
              "width": 0.5
             }
            },
            "type": "bar"
           }
          ],
          "barpolar": [
           {
            "marker": {
             "line": {
              "color": "#E5ECF6",
              "width": 0.5
             }
            },
            "type": "barpolar"
           }
          ],
          "carpet": [
           {
            "aaxis": {
             "endlinecolor": "#2a3f5f",
             "gridcolor": "white",
             "linecolor": "white",
             "minorgridcolor": "white",
             "startlinecolor": "#2a3f5f"
            },
            "baxis": {
             "endlinecolor": "#2a3f5f",
             "gridcolor": "white",
             "linecolor": "white",
             "minorgridcolor": "white",
             "startlinecolor": "#2a3f5f"
            },
            "type": "carpet"
           }
          ],
          "choropleth": [
           {
            "colorbar": {
             "outlinewidth": 0,
             "ticks": ""
            },
            "type": "choropleth"
           }
          ],
          "contour": [
           {
            "colorbar": {
             "outlinewidth": 0,
             "ticks": ""
            },
            "colorscale": [
             [
              0,
              "#0d0887"
             ],
             [
              0.1111111111111111,
              "#46039f"
             ],
             [
              0.2222222222222222,
              "#7201a8"
             ],
             [
              0.3333333333333333,
              "#9c179e"
             ],
             [
              0.4444444444444444,
              "#bd3786"
             ],
             [
              0.5555555555555556,
              "#d8576b"
             ],
             [
              0.6666666666666666,
              "#ed7953"
             ],
             [
              0.7777777777777778,
              "#fb9f3a"
             ],
             [
              0.8888888888888888,
              "#fdca26"
             ],
             [
              1,
              "#f0f921"
             ]
            ],
            "type": "contour"
           }
          ],
          "contourcarpet": [
           {
            "colorbar": {
             "outlinewidth": 0,
             "ticks": ""
            },
            "type": "contourcarpet"
           }
          ],
          "heatmap": [
           {
            "colorbar": {
             "outlinewidth": 0,
             "ticks": ""
            },
            "colorscale": [
             [
              0,
              "#0d0887"
             ],
             [
              0.1111111111111111,
              "#46039f"
             ],
             [
              0.2222222222222222,
              "#7201a8"
             ],
             [
              0.3333333333333333,
              "#9c179e"
             ],
             [
              0.4444444444444444,
              "#bd3786"
             ],
             [
              0.5555555555555556,
              "#d8576b"
             ],
             [
              0.6666666666666666,
              "#ed7953"
             ],
             [
              0.7777777777777778,
              "#fb9f3a"
             ],
             [
              0.8888888888888888,
              "#fdca26"
             ],
             [
              1,
              "#f0f921"
             ]
            ],
            "type": "heatmap"
           }
          ],
          "heatmapgl": [
           {
            "colorbar": {
             "outlinewidth": 0,
             "ticks": ""
            },
            "colorscale": [
             [
              0,
              "#0d0887"
             ],
             [
              0.1111111111111111,
              "#46039f"
             ],
             [
              0.2222222222222222,
              "#7201a8"
             ],
             [
              0.3333333333333333,
              "#9c179e"
             ],
             [
              0.4444444444444444,
              "#bd3786"
             ],
             [
              0.5555555555555556,
              "#d8576b"
             ],
             [
              0.6666666666666666,
              "#ed7953"
             ],
             [
              0.7777777777777778,
              "#fb9f3a"
             ],
             [
              0.8888888888888888,
              "#fdca26"
             ],
             [
              1,
              "#f0f921"
             ]
            ],
            "type": "heatmapgl"
           }
          ],
          "histogram": [
           {
            "marker": {
             "colorbar": {
              "outlinewidth": 0,
              "ticks": ""
             }
            },
            "type": "histogram"
           }
          ],
          "histogram2d": [
           {
            "colorbar": {
             "outlinewidth": 0,
             "ticks": ""
            },
            "colorscale": [
             [
              0,
              "#0d0887"
             ],
             [
              0.1111111111111111,
              "#46039f"
             ],
             [
              0.2222222222222222,
              "#7201a8"
             ],
             [
              0.3333333333333333,
              "#9c179e"
             ],
             [
              0.4444444444444444,
              "#bd3786"
             ],
             [
              0.5555555555555556,
              "#d8576b"
             ],
             [
              0.6666666666666666,
              "#ed7953"
             ],
             [
              0.7777777777777778,
              "#fb9f3a"
             ],
             [
              0.8888888888888888,
              "#fdca26"
             ],
             [
              1,
              "#f0f921"
             ]
            ],
            "type": "histogram2d"
           }
          ],
          "histogram2dcontour": [
           {
            "colorbar": {
             "outlinewidth": 0,
             "ticks": ""
            },
            "colorscale": [
             [
              0,
              "#0d0887"
             ],
             [
              0.1111111111111111,
              "#46039f"
             ],
             [
              0.2222222222222222,
              "#7201a8"
             ],
             [
              0.3333333333333333,
              "#9c179e"
             ],
             [
              0.4444444444444444,
              "#bd3786"
             ],
             [
              0.5555555555555556,
              "#d8576b"
             ],
             [
              0.6666666666666666,
              "#ed7953"
             ],
             [
              0.7777777777777778,
              "#fb9f3a"
             ],
             [
              0.8888888888888888,
              "#fdca26"
             ],
             [
              1,
              "#f0f921"
             ]
            ],
            "type": "histogram2dcontour"
           }
          ],
          "mesh3d": [
           {
            "colorbar": {
             "outlinewidth": 0,
             "ticks": ""
            },
            "type": "mesh3d"
           }
          ],
          "parcoords": [
           {
            "line": {
             "colorbar": {
              "outlinewidth": 0,
              "ticks": ""
             }
            },
            "type": "parcoords"
           }
          ],
          "pie": [
           {
            "automargin": true,
            "type": "pie"
           }
          ],
          "scatter": [
           {
            "marker": {
             "colorbar": {
              "outlinewidth": 0,
              "ticks": ""
             }
            },
            "type": "scatter"
           }
          ],
          "scatter3d": [
           {
            "line": {
             "colorbar": {
              "outlinewidth": 0,
              "ticks": ""
             }
            },
            "marker": {
             "colorbar": {
              "outlinewidth": 0,
              "ticks": ""
             }
            },
            "type": "scatter3d"
           }
          ],
          "scattercarpet": [
           {
            "marker": {
             "colorbar": {
              "outlinewidth": 0,
              "ticks": ""
             }
            },
            "type": "scattercarpet"
           }
          ],
          "scattergeo": [
           {
            "marker": {
             "colorbar": {
              "outlinewidth": 0,
              "ticks": ""
             }
            },
            "type": "scattergeo"
           }
          ],
          "scattergl": [
           {
            "marker": {
             "colorbar": {
              "outlinewidth": 0,
              "ticks": ""
             }
            },
            "type": "scattergl"
           }
          ],
          "scattermapbox": [
           {
            "marker": {
             "colorbar": {
              "outlinewidth": 0,
              "ticks": ""
             }
            },
            "type": "scattermapbox"
           }
          ],
          "scatterpolar": [
           {
            "marker": {
             "colorbar": {
              "outlinewidth": 0,
              "ticks": ""
             }
            },
            "type": "scatterpolar"
           }
          ],
          "scatterpolargl": [
           {
            "marker": {
             "colorbar": {
              "outlinewidth": 0,
              "ticks": ""
             }
            },
            "type": "scatterpolargl"
           }
          ],
          "scatterternary": [
           {
            "marker": {
             "colorbar": {
              "outlinewidth": 0,
              "ticks": ""
             }
            },
            "type": "scatterternary"
           }
          ],
          "surface": [
           {
            "colorbar": {
             "outlinewidth": 0,
             "ticks": ""
            },
            "colorscale": [
             [
              0,
              "#0d0887"
             ],
             [
              0.1111111111111111,
              "#46039f"
             ],
             [
              0.2222222222222222,
              "#7201a8"
             ],
             [
              0.3333333333333333,
              "#9c179e"
             ],
             [
              0.4444444444444444,
              "#bd3786"
             ],
             [
              0.5555555555555556,
              "#d8576b"
             ],
             [
              0.6666666666666666,
              "#ed7953"
             ],
             [
              0.7777777777777778,
              "#fb9f3a"
             ],
             [
              0.8888888888888888,
              "#fdca26"
             ],
             [
              1,
              "#f0f921"
             ]
            ],
            "type": "surface"
           }
          ],
          "table": [
           {
            "cells": {
             "fill": {
              "color": "#EBF0F8"
             },
             "line": {
              "color": "white"
             }
            },
            "header": {
             "fill": {
              "color": "#C8D4E3"
             },
             "line": {
              "color": "white"
             }
            },
            "type": "table"
           }
          ]
         },
         "layout": {
          "annotationdefaults": {
           "arrowcolor": "#2a3f5f",
           "arrowhead": 0,
           "arrowwidth": 1
          },
          "autotypenumbers": "strict",
          "coloraxis": {
           "colorbar": {
            "outlinewidth": 0,
            "ticks": ""
           }
          },
          "colorscale": {
           "diverging": [
            [
             0,
             "#8e0152"
            ],
            [
             0.1,
             "#c51b7d"
            ],
            [
             0.2,
             "#de77ae"
            ],
            [
             0.3,
             "#f1b6da"
            ],
            [
             0.4,
             "#fde0ef"
            ],
            [
             0.5,
             "#f7f7f7"
            ],
            [
             0.6,
             "#e6f5d0"
            ],
            [
             0.7,
             "#b8e186"
            ],
            [
             0.8,
             "#7fbc41"
            ],
            [
             0.9,
             "#4d9221"
            ],
            [
             1,
             "#276419"
            ]
           ],
           "sequential": [
            [
             0,
             "#0d0887"
            ],
            [
             0.1111111111111111,
             "#46039f"
            ],
            [
             0.2222222222222222,
             "#7201a8"
            ],
            [
             0.3333333333333333,
             "#9c179e"
            ],
            [
             0.4444444444444444,
             "#bd3786"
            ],
            [
             0.5555555555555556,
             "#d8576b"
            ],
            [
             0.6666666666666666,
             "#ed7953"
            ],
            [
             0.7777777777777778,
             "#fb9f3a"
            ],
            [
             0.8888888888888888,
             "#fdca26"
            ],
            [
             1,
             "#f0f921"
            ]
           ],
           "sequentialminus": [
            [
             0,
             "#0d0887"
            ],
            [
             0.1111111111111111,
             "#46039f"
            ],
            [
             0.2222222222222222,
             "#7201a8"
            ],
            [
             0.3333333333333333,
             "#9c179e"
            ],
            [
             0.4444444444444444,
             "#bd3786"
            ],
            [
             0.5555555555555556,
             "#d8576b"
            ],
            [
             0.6666666666666666,
             "#ed7953"
            ],
            [
             0.7777777777777778,
             "#fb9f3a"
            ],
            [
             0.8888888888888888,
             "#fdca26"
            ],
            [
             1,
             "#f0f921"
            ]
           ]
          },
          "colorway": [
           "#636efa",
           "#EF553B",
           "#00cc96",
           "#ab63fa",
           "#FFA15A",
           "#19d3f3",
           "#FF6692",
           "#B6E880",
           "#FF97FF",
           "#FECB52"
          ],
          "font": {
           "color": "#2a3f5f"
          },
          "geo": {
           "bgcolor": "white",
           "lakecolor": "white",
           "landcolor": "#E5ECF6",
           "showlakes": true,
           "showland": true,
           "subunitcolor": "white"
          },
          "hoverlabel": {
           "align": "left"
          },
          "hovermode": "closest",
          "mapbox": {
           "style": "light"
          },
          "paper_bgcolor": "white",
          "plot_bgcolor": "#E5ECF6",
          "polar": {
           "angularaxis": {
            "gridcolor": "white",
            "linecolor": "white",
            "ticks": ""
           },
           "bgcolor": "#E5ECF6",
           "radialaxis": {
            "gridcolor": "white",
            "linecolor": "white",
            "ticks": ""
           }
          },
          "scene": {
           "xaxis": {
            "backgroundcolor": "#E5ECF6",
            "gridcolor": "white",
            "gridwidth": 2,
            "linecolor": "white",
            "showbackground": true,
            "ticks": "",
            "zerolinecolor": "white"
           },
           "yaxis": {
            "backgroundcolor": "#E5ECF6",
            "gridcolor": "white",
            "gridwidth": 2,
            "linecolor": "white",
            "showbackground": true,
            "ticks": "",
            "zerolinecolor": "white"
           },
           "zaxis": {
            "backgroundcolor": "#E5ECF6",
            "gridcolor": "white",
            "gridwidth": 2,
            "linecolor": "white",
            "showbackground": true,
            "ticks": "",
            "zerolinecolor": "white"
           }
          },
          "shapedefaults": {
           "line": {
            "color": "#2a3f5f"
           }
          },
          "ternary": {
           "aaxis": {
            "gridcolor": "white",
            "linecolor": "white",
            "ticks": ""
           },
           "baxis": {
            "gridcolor": "white",
            "linecolor": "white",
            "ticks": ""
           },
           "bgcolor": "#E5ECF6",
           "caxis": {
            "gridcolor": "white",
            "linecolor": "white",
            "ticks": ""
           }
          },
          "title": {
           "x": 0.05
          },
          "xaxis": {
           "automargin": true,
           "gridcolor": "white",
           "linecolor": "white",
           "ticks": "",
           "title": {
            "standoff": 15
           },
           "zerolinecolor": "white",
           "zerolinewidth": 2
          },
          "yaxis": {
           "automargin": true,
           "gridcolor": "white",
           "linecolor": "white",
           "ticks": "",
           "title": {
            "standoff": 15
           },
           "zerolinecolor": "white",
           "zerolinewidth": 2
          }
         }
        },
        "title": {
         "text": "Basic Sankey Diagram"
        }
       }
      },
      "image/png": "[encoded data removed]",
      "text/html": [
       "<div>                            <div id=\"4cb578e4-e341-485e-b90c-1031eccf3e50\" class=\"plotly-graph-div\" style=\"height:525px; width:100%;\"></div>            <script type=\"text/javascript\">                require([\"plotly\"], function(Plotly) {                    window.PLOTLYENV=window.PLOTLYENV || {};                                    if (document.getElementById(\"4cb578e4-e341-485e-b90c-1031eccf3e50\")) {                    Plotly.newPlot(                        \"4cb578e4-e341-485e-b90c-1031eccf3e50\",                        [{\"arrangement\": \"snap\", \"link\": {\"color\": [\"rgba(228, 26, 28, 0.5)\", \"rgba(127, 156, 250, 0.7)\", \"rgba(228, 26, 28, 0.5)\", \"rgba(127, 156, 250, 0.7)\", \"rgba(228, 26, 2, 0.5)\", \"rgba(127, 156, 250, 0.7)\", \"rgba(127, 156, 250, 0.7)\", \"rgba(106, 250, 2, 0.5)\", \"rgba(16, 2, 217, 0.5)\"], \"source\": [0, 0, 1, 1, 1, 2, 3, 3, 3], \"target\": [4, 5, 4, 5, 6, 5, 5, 7, 8], \"value\": [0.9, 0.1, 0.2, 0.1, 0.7, 1, 0.1, 0.55, 0.35]}, \"node\": {\"color\": [\"#adacac\", \"#adacac\", \"#adacac\", \"#adacac\", \"#969595\", \"#969595\", \"#969595\", \"#969595\", \"#969595\"], \"label\": [\"Stephan\", \"Lukas\", \"Tobias\", \"Micha\", \"Ebener\", \"Leitmittel\", \"Diss\", \"Plansee\", \"Voest\"], \"line\": {\"color\": \"#969595\", \"width\": 0.5}, \"pad\": 20, \"thickness\": 5}, \"type\": \"sankey\"}],                        {\"font\": {\"size\": 20}, \"template\": {\"data\": {\"bar\": [{\"error_x\": {\"color\": \"#2a3f5f\"}, \"error_y\": {\"color\": \"#2a3f5f\"}, \"marker\": {\"line\": {\"color\": \"#E5ECF6\", \"width\": 0.5}}, \"type\": \"bar\"}], \"barpolar\": [{\"marker\": {\"line\": {\"color\": \"#E5ECF6\", \"width\": 0.5}}, \"type\": \"barpolar\"}], \"carpet\": [{\"aaxis\": {\"endlinecolor\": \"#2a3f5f\", \"gridcolor\": \"white\", \"linecolor\": \"white\", \"minorgridcolor\": \"white\", \"startlinecolor\": \"#2a3f5f\"}, \"baxis\": {\"endlinecolor\": \"#2a3f5f\", \"gridcolor\": \"white\", \"linecolor\": \"white\", \"minorgridcolor\": \"white\", \"startlinecolor\": \"#2a3f5f\"}, \"type\": \"carpet\"}], \"choropleth\": [{\"colorbar\": {\"outlinewidth\": 0, \"ticks\": \"\"}, \"type\": \"choropleth\"}], \"contour\": [{\"colorbar\": {\"outlinewidth\": 0, \"ticks\": \"\"}, \"colorscale\": [[0.0, \"#0d0887\"], [0.1111111111111111, \"#46039f\"], [0.2222222222222222, \"#7201a8\"], [0.3333333333333333, \"#9c179e\"], [0.4444444444444444, \"#bd3786\"], [0.5555555555555556, \"#d8576b\"], [0.6666666666666666, \"#ed7953\"], [0.7777777777777778, \"#fb9f3a\"], [0.8888888888888888, \"#fdca26\"], [1.0, \"#f0f921\"]], \"type\": \"contour\"}], \"contourcarpet\": [{\"colorbar\": {\"outlinewidth\": 0, \"ticks\": \"\"}, \"type\": \"contourcarpet\"}], \"heatmap\": [{\"colorbar\": {\"outlinewidth\": 0, \"ticks\": \"\"}, \"colorscale\": [[0.0, \"#0d0887\"], [0.1111111111111111, \"#46039f\"], [0.2222222222222222, \"#7201a8\"], [0.3333333333333333, \"#9c179e\"], [0.4444444444444444, \"#bd3786\"], [0.5555555555555556, \"#d8576b\"], [0.6666666666666666, \"#ed7953\"], [0.7777777777777778, \"#fb9f3a\"], [0.8888888888888888, \"#fdca26\"], [1.0, \"#f0f921\"]], \"type\": \"heatmap\"}], \"heatmapgl\": [{\"colorbar\": {\"outlinewidth\": 0, \"ticks\": \"\"}, \"colorscale\": [[0.0, \"#0d0887\"], [0.1111111111111111, \"#46039f\"], [0.2222222222222222, \"#7201a8\"], [0.3333333333333333, \"#9c179e\"], [0.4444444444444444, \"#bd3786\"], [0.5555555555555556, \"#d8576b\"], [0.6666666666666666, \"#ed7953\"], [0.7777777777777778, \"#fb9f3a\"], [0.8888888888888888, \"#fdca26\"], [1.0, \"#f0f921\"]], \"type\": \"heatmapgl\"}], \"histogram\": [{\"marker\": {\"colorbar\": {\"outlinewidth\": 0, \"ticks\": \"\"}}, \"type\": \"histogram\"}], \"histogram2d\": [{\"colorbar\": {\"outlinewidth\": 0, \"ticks\": \"\"}, \"colorscale\": [[0.0, \"#0d0887\"], [0.1111111111111111, \"#46039f\"], [0.2222222222222222, \"#7201a8\"], [0.3333333333333333, \"#9c179e\"], [0.4444444444444444, \"#bd3786\"], [0.5555555555555556, \"#d8576b\"], [0.6666666666666666, \"#ed7953\"], [0.7777777777777778, \"#fb9f3a\"], [0.8888888888888888, \"#fdca26\"], [1.0, \"#f0f921\"]], \"type\": \"histogram2d\"}], \"histogram2dcontour\": [{\"colorbar\": {\"outlinewidth\": 0, \"ticks\": \"\"}, \"colorscale\": [[0.0, \"#0d0887\"], [0.1111111111111111, \"#46039f\"], [0.2222222222222222, \"#7201a8\"], [0.3333333333333333, \"#9c179e\"], [0.4444444444444444, \"#bd3786\"], [0.5555555555555556, \"#d8576b\"], [0.6666666666666666, \"#ed7953\"], [0.7777777777777778, \"#fb9f3a\"], [0.8888888888888888, \"#fdca26\"], [1.0, \"#f0f921\"]], \"type\": \"histogram2dcontour\"}], \"mesh3d\": [{\"colorbar\": {\"outlinewidth\": 0, \"ticks\": \"\"}, \"type\": \"mesh3d\"}], \"parcoords\": [{\"line\": {\"colorbar\": {\"outlinewidth\": 0, \"ticks\": \"\"}}, \"type\": \"parcoords\"}], \"pie\": [{\"automargin\": true, \"type\": \"pie\"}], \"scatter\": [{\"marker\": {\"colorbar\": {\"outlinewidth\": 0, \"ticks\": \"\"}}, \"type\": \"scatter\"}], \"scatter3d\": [{\"line\": {\"colorbar\": {\"outlinewidth\": 0, \"ticks\": \"\"}}, \"marker\": {\"colorbar\": {\"outlinewidth\": 0, \"ticks\": \"\"}}, \"type\": \"scatter3d\"}], \"scattercarpet\": [{\"marker\": {\"colorbar\": {\"outlinewidth\": 0, \"ticks\": \"\"}}, \"type\": \"scattercarpet\"}], \"scattergeo\": [{\"marker\": {\"colorbar\": {\"outlinewidth\": 0, \"ticks\": \"\"}}, \"type\": \"scattergeo\"}], \"scattergl\": [{\"marker\": {\"colorbar\": {\"outlinewidth\": 0, \"ticks\": \"\"}}, \"type\": \"scattergl\"}], \"scattermapbox\": [{\"marker\": {\"colorbar\": {\"outlinewidth\": 0, \"ticks\": \"\"}}, \"type\": \"scattermapbox\"}], \"scatterpolar\": [{\"marker\": {\"colorbar\": {\"outlinewidth\": 0, \"ticks\": \"\"}}, \"type\": \"scatterpolar\"}], \"scatterpolargl\": [{\"marker\": {\"colorbar\": {\"outlinewidth\": 0, \"ticks\": \"\"}}, \"type\": \"scatterpolargl\"}], \"scatterternary\": [{\"marker\": {\"colorbar\": {\"outlinewidth\": 0, \"ticks\": \"\"}}, \"type\": \"scatterternary\"}], \"surface\": [{\"colorbar\": {\"outlinewidth\": 0, \"ticks\": \"\"}, \"colorscale\": [[0.0, \"#0d0887\"], [0.1111111111111111, \"#46039f\"], [0.2222222222222222, \"#7201a8\"], [0.3333333333333333, \"#9c179e\"], [0.4444444444444444, \"#bd3786\"], [0.5555555555555556, \"#d8576b\"], [0.6666666666666666, \"#ed7953\"], [0.7777777777777778, \"#fb9f3a\"], [0.8888888888888888, \"#fdca26\"], [1.0, \"#f0f921\"]], \"type\": \"surface\"}], \"table\": [{\"cells\": {\"fill\": {\"color\": \"#EBF0F8\"}, \"line\": {\"color\": \"white\"}}, \"header\": {\"fill\": {\"color\": \"#C8D4E3\"}, \"line\": {\"color\": \"white\"}}, \"type\": \"table\"}]}, \"layout\": {\"annotationdefaults\": {\"arrowcolor\": \"#2a3f5f\", \"arrowhead\": 0, \"arrowwidth\": 1}, \"autotypenumbers\": \"strict\", \"coloraxis\": {\"colorbar\": {\"outlinewidth\": 0, \"ticks\": \"\"}}, \"colorscale\": {\"diverging\": [[0, \"#8e0152\"], [0.1, \"#c51b7d\"], [0.2, \"#de77ae\"], [0.3, \"#f1b6da\"], [0.4, \"#fde0ef\"], [0.5, \"#f7f7f7\"], [0.6, \"#e6f5d0\"], [0.7, \"#b8e186\"], [0.8, \"#7fbc41\"], [0.9, \"#4d9221\"], [1, \"#276419\"]], \"sequential\": [[0.0, \"#0d0887\"], [0.1111111111111111, \"#46039f\"], [0.2222222222222222, \"#7201a8\"], [0.3333333333333333, \"#9c179e\"], [0.4444444444444444, \"#bd3786\"], [0.5555555555555556, \"#d8576b\"], [0.6666666666666666, \"#ed7953\"], [0.7777777777777778, \"#fb9f3a\"], [0.8888888888888888, \"#fdca26\"], [1.0, \"#f0f921\"]], \"sequentialminus\": [[0.0, \"#0d0887\"], [0.1111111111111111, \"#46039f\"], [0.2222222222222222, \"#7201a8\"], [0.3333333333333333, \"#9c179e\"], [0.4444444444444444, \"#bd3786\"], [0.5555555555555556, \"#d8576b\"], [0.6666666666666666, \"#ed7953\"], [0.7777777777777778, \"#fb9f3a\"], [0.8888888888888888, \"#fdca26\"], [1.0, \"#f0f921\"]]}, \"colorway\": [\"#636efa\", \"#EF553B\", \"#00cc96\", \"#ab63fa\", \"#FFA15A\", \"#19d3f3\", \"#FF6692\", \"#B6E880\", \"#FF97FF\", \"#FECB52\"], \"font\": {\"color\": \"#2a3f5f\"}, \"geo\": {\"bgcolor\": \"white\", \"lakecolor\": \"white\", \"landcolor\": \"#E5ECF6\", \"showlakes\": true, \"showland\": true, \"subunitcolor\": \"white\"}, \"hoverlabel\": {\"align\": \"left\"}, \"hovermode\": \"closest\", \"mapbox\": {\"style\": \"light\"}, \"paper_bgcolor\": \"white\", \"plot_bgcolor\": \"#E5ECF6\", \"polar\": {\"angularaxis\": {\"gridcolor\": \"white\", \"linecolor\": \"white\", \"ticks\": \"\"}, \"bgcolor\": \"#E5ECF6\", \"radialaxis\": {\"gridcolor\": \"white\", \"linecolor\": \"white\", \"ticks\": \"\"}}, \"scene\": {\"xaxis\": {\"backgroundcolor\": \"#E5ECF6\", \"gridcolor\": \"white\", \"gridwidth\": 2, \"linecolor\": \"white\", \"showbackground\": true, \"ticks\": \"\", \"zerolinecolor\": \"white\"}, \"yaxis\": {\"backgroundcolor\": \"#E5ECF6\", \"gridcolor\": \"white\", \"gridwidth\": 2, \"linecolor\": \"white\", \"showbackground\": true, \"ticks\": \"\", \"zerolinecolor\": \"white\"}, \"zaxis\": {\"backgroundcolor\": \"#E5ECF6\", \"gridcolor\": \"white\", \"gridwidth\": 2, \"linecolor\": \"white\", \"showbackground\": true, \"ticks\": \"\", \"zerolinecolor\": \"white\"}}, \"shapedefaults\": {\"line\": {\"color\": \"#2a3f5f\"}}, \"ternary\": {\"aaxis\": {\"gridcolor\": \"white\", \"linecolor\": \"white\", \"ticks\": \"\"}, \"baxis\": {\"gridcolor\": \"white\", \"linecolor\": \"white\", \"ticks\": \"\"}, \"bgcolor\": \"#E5ECF6\", \"caxis\": {\"gridcolor\": \"white\", \"linecolor\": \"white\", \"ticks\": \"\"}}, \"title\": {\"x\": 0.05}, \"xaxis\": {\"automargin\": true, \"gridcolor\": \"white\", \"linecolor\": \"white\", \"ticks\": \"\", \"title\": {\"standoff\": 15}, \"zerolinecolor\": \"white\", \"zerolinewidth\": 2}, \"yaxis\": {\"automargin\": true, \"gridcolor\": \"white\", \"linecolor\": \"white\", \"ticks\": \"\", \"title\": {\"standoff\": 15}, \"zerolinecolor\": \"white\", \"zerolinewidth\": 2}}}, \"title\": {\"text\": \"Basic Sankey Diagram\"}},                        {\"responsive\": true}                    ).then(function(){\n",
       "                            \n",
       "var gd = document.getElementById('4cb578e4-e341-485e-b90c-1031eccf3e50');\n",
       "var x = new MutationObserver(function (mutations, observer) {{\n",
       "        var display = window.getComputedStyle(gd).display;\n",
       "        if (!display || display === 'none') {{\n",
       "            console.log([gd, 'removed!']);\n",
       "            Plotly.purge(gd);\n",
       "            observer.disconnect();\n",
       "        }}\n",
       "}});\n",
       "\n",
       "// Listen for the removal of the full notebook cells\n",
       "var notebookContainer = gd.closest('#notebook-container');\n",
       "if (notebookContainer) {{\n",
       "    x.observe(notebookContainer, {childList: true});\n",
       "}}\n",
       "\n",
       "// Listen for the clearing of the current output cell\n",
       "var outputEl = gd.closest('.output');\n",
       "if (outputEl) {{\n",
       "    x.observe(outputEl, {childList: true});\n",
       "}}\n",
       "\n",
       "                        })                };                });            </script>        </div>"
      ]
     },
     "metadata": {},
     "output_type": "display_data"
    }
   ],
   "source": [
    "import plotly.graph_objects as go\n",
    "\n",
    "fig = go.Figure(data=[go.Sankey(\n",
    "    arrangement = \"snap\", # other alternatives: freeform, perpendicular\n",
    "    node = dict(\n",
    "      pad = 20,\n",
    "      thickness = 5,\n",
    "      line = dict(color = \"#969595\", width = 0.5),\n",
    "      label = NAMES + PROJECTS,\n",
    "      color = [\"#adacac\"]*len(NAMES) + [\"#969595\"]*len(PROJECTS),\n",
    "    ),\n",
    "    link = dict(\n",
    "        source = sources,\n",
    "        target = targets,\n",
    "        value = values,\n",
    "        color = colors,\n",
    "  ))])\n",
    "\n",
    "fig.update_layout(title_text=\"Basic Sankey Diagram\", font_size=20)\n",
    "fig.show()"
   ]
  },
  {
   "cell_type": "code",
   "execution_count": null,
   "id": "israeli-korea",
   "metadata": {},
   "outputs": [],
   "source": []
  }
 ],
 "metadata": {
  "kernelspec": {
   "display_name": "data-driven-basics",
   "language": "python",
   "name": "data-driven-basics"
  },
  "language_info": {
   "codemirror_mode": {
    "name": "ipython",
    "version": 3
   },
   "file_extension": ".py",
   "mimetype": "text/x-python",
   "name": "python",
   "nbconvert_exporter": "python",
   "pygments_lexer": "ipython3",
   "version": "3.9.1"
  }
 },
 "nbformat": 4,
 "nbformat_minor": 5
}
